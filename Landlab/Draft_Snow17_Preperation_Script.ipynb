{
 "cells": [
  {
   "cell_type": "code",
   "execution_count": null,
   "metadata": {},
   "outputs": [],
   "source": [
    "import numpy as np\n",
    "import xarray as xr \n",
    "import matplotlib.pyplot as plt\n",
    "import pandas as pd\n",
    "import salem\n",
    "import geopandas as gpd"
   ]
  },
  {
   "cell_type": "code",
   "execution_count": null,
   "metadata": {},
   "outputs": [],
   "source": [
    "test_data = xr.open_dataset('MERRA100.prod.assim.instM_3d_ana_Np.197901.SUB.nc')"
   ]
  },
  {
   "cell_type": "code",
   "execution_count": null,
   "metadata": {},
   "outputs": [],
   "source": [
    "test_data"
   ]
  },
  {
   "cell_type": "code",
   "execution_count": null,
   "metadata": {},
   "outputs": [],
   "source": [
    "new_dataset = xr.open_dataset('../Monthly_Meera_Products/MERRA2_100.statM_2d_slv_Nx.198001.SUB.nc')"
   ]
  },
  {
   "cell_type": "code",
   "execution_count": null,
   "metadata": {},
   "outputs": [],
   "source": [
    "new_dataset.time"
   ]
  },
  {
   "cell_type": "code",
   "execution_count": null,
   "metadata": {},
   "outputs": [],
   "source": [
    "new_dataset.T2MMAX"
   ]
  },
  {
   "cell_type": "code",
   "execution_count": null,
   "metadata": {},
   "outputs": [],
   "source": [
    "#gdalwarp  -t_srs EPSG:4326 -of netCDF NETCDF:\"MERRA2_100.statM_2d_slv_Nx.198001.SUB.nc\":TPRECMAX Reproj.nc\n",
    "#gdalwarp  -t_srs EPSG:4326  NETCDF:\"MERRA2_100.statM_2d_slv_Nx.198001.SUB.nc\":TPRECMAX Reproj_pabo.tif"
   ]
  },
  {
   "cell_type": "markdown",
   "metadata": {},
   "source": [
    "#### Strategy of Processing\n",
    "# Use these above commands to extract tif files for all variables\n",
    "# Get time array \n",
    "# Convert dem to same resolution, extent, projection\n",
    "# Get stacks of these array for the tmin,tmax,tavg and precip variables\n",
    "# 2d array of elevations\n",
    "# Loop through the 2d dimensions of the 3d stack\n",
    "# Pass the time dimension stack of tmin,tmax,precip,tavg, time array and elevation value to Joe Hamman's snow 17 model\n",
    "# Model returns times series of swe, take mean of each and populate it in the corresponding cell of empty SWE array\n",
    "# Pass the SWE array and DEM to Landlab Glacier Component\n",
    "# Sit back and enjoy :)"
   ]
  }
 ],
 "metadata": {
  "kernelspec": {
   "display_name": "Python 3",
   "language": "python",
   "name": "python3"
  },
  "language_info": {
   "codemirror_mode": {
    "name": "ipython",
    "version": 3
   },
   "file_extension": ".py",
   "mimetype": "text/x-python",
   "name": "python",
   "nbconvert_exporter": "python",
   "pygments_lexer": "ipython3",
   "version": "3.6.6"
  }
 },
 "nbformat": 4,
 "nbformat_minor": 2
}
