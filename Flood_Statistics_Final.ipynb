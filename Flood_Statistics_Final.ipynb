{
 "cells": [
  {
   "cell_type": "code",
   "execution_count": 13,
   "metadata": {},
   "outputs": [],
   "source": [
    "import numpy as np\n",
    "import pandas as pd\n",
    "from scipy import stats"
   ]
  },
  {
   "cell_type": "code",
   "execution_count": 5,
   "metadata": {},
   "outputs": [],
   "source": [
    "df = pd.read_excel('Puyallup_Electron.xlsx')"
   ]
  },
  {
   "cell_type": "code",
   "execution_count": 6,
   "metadata": {},
   "outputs": [
    {
     "data": {
      "text/html": [
       "<div>\n",
       "<style scoped>\n",
       "    .dataframe tbody tr th:only-of-type {\n",
       "        vertical-align: middle;\n",
       "    }\n",
       "\n",
       "    .dataframe tbody tr th {\n",
       "        vertical-align: top;\n",
       "    }\n",
       "\n",
       "    .dataframe thead th {\n",
       "        text-align: right;\n",
       "    }\n",
       "</style>\n",
       "<table border=\"1\" class=\"dataframe\">\n",
       "  <thead>\n",
       "    <tr style=\"text-align: right;\">\n",
       "      <th></th>\n",
       "      <th>Year</th>\n",
       "      <th>Discharge</th>\n",
       "    </tr>\n",
       "  </thead>\n",
       "  <tbody>\n",
       "    <tr>\n",
       "      <th>0</th>\n",
       "      <td>1912</td>\n",
       "      <td>4300</td>\n",
       "    </tr>\n",
       "    <tr>\n",
       "      <th>1</th>\n",
       "      <td>1913</td>\n",
       "      <td>2390</td>\n",
       "    </tr>\n",
       "    <tr>\n",
       "      <th>2</th>\n",
       "      <td>1914</td>\n",
       "      <td>2610</td>\n",
       "    </tr>\n",
       "    <tr>\n",
       "      <th>3</th>\n",
       "      <td>1915</td>\n",
       "      <td>2070</td>\n",
       "    </tr>\n",
       "    <tr>\n",
       "      <th>4</th>\n",
       "      <td>1916</td>\n",
       "      <td>3440</td>\n",
       "    </tr>\n",
       "  </tbody>\n",
       "</table>\n",
       "</div>"
      ],
      "text/plain": [
       "   Year  Discharge\n",
       "0  1912       4300\n",
       "1  1913       2390\n",
       "2  1914       2610\n",
       "3  1915       2070\n",
       "4  1916       3440"
      ]
     },
     "execution_count": 6,
     "metadata": {},
     "output_type": "execute_result"
    }
   ],
   "source": [
    "df.head()"
   ]
  },
  {
   "cell_type": "code",
   "execution_count": 8,
   "metadata": {},
   "outputs": [],
   "source": [
    "mean_X = df.Discharge.mean()\n",
    "stdev_X = df.Discharge.std()\n",
    "cv_X = stdev_X/mean_X\n",
    "skew_X = df.Discharge.skew()"
   ]
  },
  {
   "cell_type": "code",
   "execution_count": 10,
   "metadata": {},
   "outputs": [
    {
     "name": "stdout",
     "output_type": "stream",
     "text": [
      "mean of distribution = 5149.0\n",
      "standard deviation of distribution = 2901.2836966776613\n",
      "Cofficient of variation of distribution = 0.5634654683778717\n",
      "skewness of distribution = 1.5031391255641797\n"
     ]
    }
   ],
   "source": [
    "print ('mean of distribution = '+str(mean_X))\n",
    "print ('standard deviation of distribution = '+str(stdev_X))\n",
    "print ('Cofficient of variation of distribution = '+str(cv_X))\n",
    "print ('skewness of distribution = '+str(skew_X))"
   ]
  },
  {
   "cell_type": "code",
   "execution_count": 15,
   "metadata": {},
   "outputs": [],
   "source": [
    "return_period = np.array([5,10,25,50,100])\n",
    "fr = 1-(1/return_period) #this is essentially the cummulative fraction/probablity"
   ]
  },
  {
   "cell_type": "code",
   "execution_count": 16,
   "metadata": {},
   "outputs": [
    {
     "data": {
      "text/plain": [
       "array([ 6978.77295336,  8792.34023285, 11248.37709006, 13188.72668211,\n",
       "       15218.38723115])"
      ]
     },
     "execution_count": 16,
     "metadata": {},
     "output_type": "execute_result"
    }
   ],
   "source": [
    "#Lognormal Distribution\n",
    "sd_ln = np.sqrt(np.log(np.power(cv_X,2)+1))\n",
    "mean_ln = 0.5*np.log(np.power(mean_X,2)/(np.power(cv_X,2)+1))\n",
    "stats.lognorm(sd_ln,scale=np.exp(mean_ln)).ppf(fr)"
   ]
  },
  {
   "cell_type": "code",
   "execution_count": 17,
   "metadata": {},
   "outputs": [
    {
     "name": "stdout",
     "output_type": "stream",
     "text": [
      "[ 7237.16177429  8935.37980907 11081.08279789 12672.88784991\n",
      " 14252.93926328]\n"
     ]
    }
   ],
   "source": [
    "#Gumbel Disrtribution\n",
    "alpha = 0.78*stdev_X #Class Slides\n",
    "pshi = mean_X-0.5772*alpha\n",
    "Q_Gumbel = pshi-alpha*np.log(-np.log(fr))\n",
    "print (Q_Gumbel)"
   ]
  },
  {
   "cell_type": "code",
   "execution_count": 33,
   "metadata": {},
   "outputs": [
    {
     "name": "stdout",
     "output_type": "stream",
     "text": [
      "[ 6972.63539392  8855.18093445 11462.58775548 13566.23877333\n",
      " 15805.15623173]\n"
     ]
    }
   ],
   "source": [
    "#Log_Pearson III\n",
    "df['log'] = np.log10(df['Discharge'])\n",
    "#y = np.log10(df.Discharge.values)\n",
    "mean_y = df.log.mean()\n",
    "std_y = df.log.std()\n",
    "skew_y = df.log.skew()\n",
    "zp = stats.norm(0,1).ppf(fr)\n",
    "kp = (2/skew_y)*(np.power(((zp-skew_y/6)*skew_y/6+1),3)-1)\n",
    "Q_log_pearson_3 = np.power(10,(mean_y+std_y*kp))\n",
    "print (Q_log_pearson_3)"
   ]
  },
  {
   "cell_type": "code",
   "execution_count": 36,
   "metadata": {},
   "outputs": [],
   "source": [
    "#For Emperical Probablity, I use Weibull Distribution\n",
    "df = df.sort_values(by=['Discharge'])\n",
    "df['n'] = np.arange(1,len(df)+1,1.0)\n",
    "df['ep'] = 1-(df['n']/(len(df)+1))\n",
    "df['rp'] = 1/df['ep']\n",
    "df.to_csv('Flood_Statistics.csv')\n"
   ]
  },
  {
   "cell_type": "code",
   "execution_count": 37,
   "metadata": {},
   "outputs": [
    {
     "data": {
      "text/html": [
       "<div>\n",
       "<style scoped>\n",
       "    .dataframe tbody tr th:only-of-type {\n",
       "        vertical-align: middle;\n",
       "    }\n",
       "\n",
       "    .dataframe tbody tr th {\n",
       "        vertical-align: top;\n",
       "    }\n",
       "\n",
       "    .dataframe thead th {\n",
       "        text-align: right;\n",
       "    }\n",
       "</style>\n",
       "<table border=\"1\" class=\"dataframe\">\n",
       "  <thead>\n",
       "    <tr style=\"text-align: right;\">\n",
       "      <th></th>\n",
       "      <th>Year</th>\n",
       "      <th>Discharge</th>\n",
       "      <th>log</th>\n",
       "      <th>n</th>\n",
       "      <th>ep</th>\n",
       "      <th>rp</th>\n",
       "    </tr>\n",
       "  </thead>\n",
       "  <tbody>\n",
       "    <tr>\n",
       "      <th>7</th>\n",
       "      <td>1919</td>\n",
       "      <td>6540</td>\n",
       "      <td>3.815578</td>\n",
       "      <td>61.0</td>\n",
       "      <td>0.246914</td>\n",
       "      <td>4.050000</td>\n",
       "    </tr>\n",
       "    <tr>\n",
       "      <th>18</th>\n",
       "      <td>1948</td>\n",
       "      <td>6580</td>\n",
       "      <td>3.818226</td>\n",
       "      <td>62.0</td>\n",
       "      <td>0.234568</td>\n",
       "      <td>4.263158</td>\n",
       "    </tr>\n",
       "    <tr>\n",
       "      <th>67</th>\n",
       "      <td>2005</td>\n",
       "      <td>6810</td>\n",
       "      <td>3.833147</td>\n",
       "      <td>63.0</td>\n",
       "      <td>0.222222</td>\n",
       "      <td>4.500000</td>\n",
       "    </tr>\n",
       "    <tr>\n",
       "      <th>30</th>\n",
       "      <td>1968</td>\n",
       "      <td>6900</td>\n",
       "      <td>3.838849</td>\n",
       "      <td>64.0</td>\n",
       "      <td>0.209877</td>\n",
       "      <td>4.764706</td>\n",
       "    </tr>\n",
       "    <tr>\n",
       "      <th>46</th>\n",
       "      <td>1984</td>\n",
       "      <td>6930</td>\n",
       "      <td>3.840733</td>\n",
       "      <td>65.0</td>\n",
       "      <td>0.197531</td>\n",
       "      <td>5.062500</td>\n",
       "    </tr>\n",
       "    <tr>\n",
       "      <th>27</th>\n",
       "      <td>1965</td>\n",
       "      <td>6970</td>\n",
       "      <td>3.843233</td>\n",
       "      <td>66.0</td>\n",
       "      <td>0.185185</td>\n",
       "      <td>5.400000</td>\n",
       "    </tr>\n",
       "    <tr>\n",
       "      <th>10</th>\n",
       "      <td>1922</td>\n",
       "      <td>6980</td>\n",
       "      <td>3.843855</td>\n",
       "      <td>67.0</td>\n",
       "      <td>0.172840</td>\n",
       "      <td>5.785714</td>\n",
       "    </tr>\n",
       "    <tr>\n",
       "      <th>53</th>\n",
       "      <td>1991</td>\n",
       "      <td>7640</td>\n",
       "      <td>3.883093</td>\n",
       "      <td>68.0</td>\n",
       "      <td>0.160494</td>\n",
       "      <td>6.230769</td>\n",
       "    </tr>\n",
       "    <tr>\n",
       "      <th>6</th>\n",
       "      <td>1918</td>\n",
       "      <td>7700</td>\n",
       "      <td>3.886491</td>\n",
       "      <td>69.0</td>\n",
       "      <td>0.148148</td>\n",
       "      <td>6.750000</td>\n",
       "    </tr>\n",
       "    <tr>\n",
       "      <th>49</th>\n",
       "      <td>1987</td>\n",
       "      <td>9010</td>\n",
       "      <td>3.954725</td>\n",
       "      <td>70.0</td>\n",
       "      <td>0.135802</td>\n",
       "      <td>7.363636</td>\n",
       "    </tr>\n",
       "    <tr>\n",
       "      <th>17</th>\n",
       "      <td>1947</td>\n",
       "      <td>9160</td>\n",
       "      <td>3.961895</td>\n",
       "      <td>71.0</td>\n",
       "      <td>0.123457</td>\n",
       "      <td>8.100000</td>\n",
       "    </tr>\n",
       "    <tr>\n",
       "      <th>71</th>\n",
       "      <td>2009</td>\n",
       "      <td>9350</td>\n",
       "      <td>3.970812</td>\n",
       "      <td>72.0</td>\n",
       "      <td>0.111111</td>\n",
       "      <td>9.000000</td>\n",
       "    </tr>\n",
       "    <tr>\n",
       "      <th>40</th>\n",
       "      <td>1978</td>\n",
       "      <td>9460</td>\n",
       "      <td>3.975891</td>\n",
       "      <td>73.0</td>\n",
       "      <td>0.098765</td>\n",
       "      <td>10.125000</td>\n",
       "    </tr>\n",
       "    <tr>\n",
       "      <th>52</th>\n",
       "      <td>1990</td>\n",
       "      <td>9900</td>\n",
       "      <td>3.995635</td>\n",
       "      <td>74.0</td>\n",
       "      <td>0.086420</td>\n",
       "      <td>11.571429</td>\n",
       "    </tr>\n",
       "    <tr>\n",
       "      <th>77</th>\n",
       "      <td>2015</td>\n",
       "      <td>10500</td>\n",
       "      <td>4.021189</td>\n",
       "      <td>75.0</td>\n",
       "      <td>0.074074</td>\n",
       "      <td>13.500000</td>\n",
       "    </tr>\n",
       "    <tr>\n",
       "      <th>25</th>\n",
       "      <td>1963</td>\n",
       "      <td>10600</td>\n",
       "      <td>4.025306</td>\n",
       "      <td>76.0</td>\n",
       "      <td>0.061728</td>\n",
       "      <td>16.200000</td>\n",
       "    </tr>\n",
       "    <tr>\n",
       "      <th>78</th>\n",
       "      <td>2016</td>\n",
       "      <td>10700</td>\n",
       "      <td>4.029384</td>\n",
       "      <td>77.0</td>\n",
       "      <td>0.049383</td>\n",
       "      <td>20.250000</td>\n",
       "    </tr>\n",
       "    <tr>\n",
       "      <th>22</th>\n",
       "      <td>1960</td>\n",
       "      <td>10800</td>\n",
       "      <td>4.033424</td>\n",
       "      <td>78.0</td>\n",
       "      <td>0.037037</td>\n",
       "      <td>27.000000</td>\n",
       "    </tr>\n",
       "    <tr>\n",
       "      <th>69</th>\n",
       "      <td>2007</td>\n",
       "      <td>15000</td>\n",
       "      <td>4.176091</td>\n",
       "      <td>79.0</td>\n",
       "      <td>0.024691</td>\n",
       "      <td>40.500000</td>\n",
       "    </tr>\n",
       "    <tr>\n",
       "      <th>58</th>\n",
       "      <td>1996</td>\n",
       "      <td>16000</td>\n",
       "      <td>4.204120</td>\n",
       "      <td>80.0</td>\n",
       "      <td>0.012346</td>\n",
       "      <td>81.000000</td>\n",
       "    </tr>\n",
       "  </tbody>\n",
       "</table>\n",
       "</div>"
      ],
      "text/plain": [
       "    Year  Discharge       log     n        ep         rp\n",
       "7   1919       6540  3.815578  61.0  0.246914   4.050000\n",
       "18  1948       6580  3.818226  62.0  0.234568   4.263158\n",
       "67  2005       6810  3.833147  63.0  0.222222   4.500000\n",
       "30  1968       6900  3.838849  64.0  0.209877   4.764706\n",
       "46  1984       6930  3.840733  65.0  0.197531   5.062500\n",
       "27  1965       6970  3.843233  66.0  0.185185   5.400000\n",
       "10  1922       6980  3.843855  67.0  0.172840   5.785714\n",
       "53  1991       7640  3.883093  68.0  0.160494   6.230769\n",
       "6   1918       7700  3.886491  69.0  0.148148   6.750000\n",
       "49  1987       9010  3.954725  70.0  0.135802   7.363636\n",
       "17  1947       9160  3.961895  71.0  0.123457   8.100000\n",
       "71  2009       9350  3.970812  72.0  0.111111   9.000000\n",
       "40  1978       9460  3.975891  73.0  0.098765  10.125000\n",
       "52  1990       9900  3.995635  74.0  0.086420  11.571429\n",
       "77  2015      10500  4.021189  75.0  0.074074  13.500000\n",
       "25  1963      10600  4.025306  76.0  0.061728  16.200000\n",
       "78  2016      10700  4.029384  77.0  0.049383  20.250000\n",
       "22  1960      10800  4.033424  78.0  0.037037  27.000000\n",
       "69  2007      15000  4.176091  79.0  0.024691  40.500000\n",
       "58  1996      16000  4.204120  80.0  0.012346  81.000000"
      ]
     },
     "execution_count": 37,
     "metadata": {},
     "output_type": "execute_result"
    }
   ],
   "source": [
    "df.tail(20)"
   ]
  },
  {
   "cell_type": "code",
   "execution_count": null,
   "metadata": {},
   "outputs": [],
   "source": []
  }
 ],
 "metadata": {
  "kernelspec": {
   "display_name": "Python 3",
   "language": "python",
   "name": "python3"
  },
  "language_info": {
   "codemirror_mode": {
    "name": "ipython",
    "version": 3
   },
   "file_extension": ".py",
   "mimetype": "text/x-python",
   "name": "python",
   "nbconvert_exporter": "python",
   "pygments_lexer": "ipython3",
   "version": "3.6.6"
  }
 },
 "nbformat": 4,
 "nbformat_minor": 2
}
