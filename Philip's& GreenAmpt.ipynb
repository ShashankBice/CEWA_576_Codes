{
 "cells": [
  {
   "cell_type": "code",
   "execution_count": 53,
   "metadata": {},
   "outputs": [],
   "source": [
    "import pandas as pd\n",
    "import numpy as np\n",
    "import matplotlib.pyplot as plt\n",
    "%matplotlib inline"
   ]
  },
  {
   "cell_type": "code",
   "execution_count": 54,
   "metadata": {},
   "outputs": [],
   "source": [
    "#inputs for clay loam\n",
    "phi_ae=630 #mm\n",
    "b=8.52\n",
    "kh=0.000245 #cm/s\n",
    "kh=kh*10*60*60 #mm/hr\n",
    "n=0.476\n",
    "theta_i=np.array([0.18,0.24,0.30,0.36,0.42]) #inital volumetric soil moisture content\n",
    "catchment_frac=np.array([0.40,0.25,0.20,0.10,0.05])\n",
    "# inputs for watershed\n",
    "w= 30 #mm/h\n",
    "dur=4 #hr"
   ]
  },
  {
   "cell_type": "code",
   "execution_count": 55,
   "metadata": {},
   "outputs": [],
   "source": [
    "ks=kh*(2/3)\n",
    "phi_f=phi_ae*((2*b+3)/(2*b+6))\n",
    "sp=np.sqrt(kh*(n-theta_i)*phi_f)\n",
    "tc=sp*sp/(4*(w-ks)*(w-ks))\n",
    "tp=(sp*sp*(2*w-ks))/(4*w*(w-ks)*(w-ks))\n",
    "ts=tp-tc\n",
    "#time_step for model is till 4hrs\n",
    "time_step=np.concatenate([np.array([0.01]),np.arange(0.025,0.076,0.025),np.arange(0.1,4.1,0.1)])\n",
    "df1=df2=df3=df4=df5=pd.DataFrame(time_step,columns=['time'])\n",
    "df_list=[df1,df2,df3,df4,df5]"
   ]
  },
  {
   "cell_type": "code",
   "execution_count": 56,
   "metadata": {},
   "outputs": [],
   "source": [
    "def philip_model(w,df,tp,ts,sp,ks):\n",
    "    df['T']=\"\"\n",
    "    df['f']=\"\"\n",
    "    df['F']=\"\"\n",
    "    mask=df.time<tp\n",
    "    mask1=df.time>tp\n",
    "    #https://stackoverflow.com/questions/50932651/perform-a-conditional-operation-on-a-pandas-column\n",
    "    df.loc[mask,'T']=df.loc[mask,'time']\n",
    "    df.loc[mask1,'T']=(df.loc[mask1,'time']-ts)\n",
    "    df.loc[mask, 'f']=w\n",
    "    df.loc[mask1,'f']=sp*np.power(df.loc[mask1,'T'],-0.5)+ks\n",
    "    df['F']=df['f']*df['T']\n",
    "    df['cumm_rain']=df['time']*w\n",
    "    df['runoff']=df['cumm_rain']-df['F']\n",
    "    plt.plot(df.time,df.cumm_rain,'^g',df.time,df.F,'--r',df.time,df.runoff,'.b')\n",
    "    return df.runoff.values[-1]\n",
    "    "
   ]
  },
  {
   "cell_type": "code",
   "execution_count": 57,
   "metadata": {},
   "outputs": [
    {
     "data": {
      "image/png": "[encoded data removed]",
      "text/plain": [
       "<Figure size 432x288 with 1 Axes>"
      ]
     },
     "metadata": {
      "needs_background": "light"
     },
     "output_type": "display_data"
    }
   ],
   "source": [
    "i=0\n",
    "runoff=[]\n",
    "for df in df_list:\n",
    "    r=philip_model(w,df,tp[i],ts[i],sp[i],ks)\n",
    "    runoff.append(r)\n",
    "    i=i+1\n",
    "   "
   ]
  },
  {
   "cell_type": "code",
   "execution_count": 58,
   "metadata": {},
   "outputs": [
    {
     "data": {
      "text/plain": [
       "[28.56759536507937,\n",
       " 34.66488832383045,\n",
       " 42.06087108071738,\n",
       " 51.42416767806692,\n",
       " 64.51364660915763]"
      ]
     },
     "execution_count": 58,
     "metadata": {},
     "output_type": "execute_result"
    }
   ],
   "source": [
    "runoff"
   ]
  },
  {
   "cell_type": "code",
   "execution_count": 60,
   "metadata": {},
   "outputs": [],
   "source": [
    "basin_average_runoff=np.sum(np.array(runoff)*catchment_frac)/np.sum(catchment_frac)"
   ]
  },
  {
   "cell_type": "code",
   "execution_count": 61,
   "metadata": {},
   "outputs": [
    {
     "data": {
      "text/plain": [
       "36.87353354139741"
      ]
     },
     "execution_count": 61,
     "metadata": {},
     "output_type": "execute_result"
    }
   ],
   "source": [
    "basin_average_runoff"
   ]
  },
  {
   "cell_type": "code",
   "execution_count": null,
   "metadata": {},
   "outputs": [],
   "source": []
  }
 ],
 "metadata": {
  "kernelspec": {
   "display_name": "Python 3",
   "language": "python",
   "name": "python3"
  },
  "language_info": {
   "codemirror_mode": {
    "name": "ipython",
    "version": 3
   },
   "file_extension": ".py",
   "mimetype": "text/x-python",
   "name": "python",
   "nbconvert_exporter": "python",
   "pygments_lexer": "ipython3",
   "version": "3.6.6"
  }
 },
 "nbformat": 4,
 "nbformat_minor": 2
}
