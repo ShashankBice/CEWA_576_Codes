{
 "cells": [
  {
   "cell_type": "code",
   "execution_count": 1,
   "metadata": {},
   "outputs": [],
   "source": [
    "import numpy as np\n",
    "import pandas as pd\n"
   ]
  },
  {
   "cell_type": "code",
   "execution_count": 2,
   "metadata": {},
   "outputs": [],
   "source": [
    "#Units of the table\n",
    "#wind_speed = m/s\n",
    "#air_temp = degree C\n",
    "#rel_hum = unitless\n",
    "#net_rad = W/m2\n",
    "#Rainfall = mm\n",
    "#Runoff = mm\n",
    "dh_dl = 1 #hydraulic gradient unitless\n",
    "ks = 10 #mm/day sat hydraulic conductivity\n",
    "gamma = 0.063875 #kPa/C\n",
    "ke = 0.0013 #(s/d)(1/kPa)\n",
    "#ke = 1.26/1000 #1/kPa\n",
    "df = pd.read_csv('Evapotranspiration.csv')"
   ]
  },
  {
   "cell_type": "code",
   "execution_count": 3,
   "metadata": {},
   "outputs": [
    {
     "data": {
      "text/html": [
       "<div>\n",
       "<style scoped>\n",
       "    .dataframe tbody tr th:only-of-type {\n",
       "        vertical-align: middle;\n",
       "    }\n",
       "\n",
       "    .dataframe tbody tr th {\n",
       "        vertical-align: top;\n",
       "    }\n",
       "\n",
       "    .dataframe thead th {\n",
       "        text-align: right;\n",
       "    }\n",
       "</style>\n",
       "<table border=\"1\" class=\"dataframe\">\n",
       "  <thead>\n",
       "    <tr style=\"text-align: right;\">\n",
       "      <th></th>\n",
       "      <th>Month</th>\n",
       "      <th>wind_speed</th>\n",
       "      <th>air_temp</th>\n",
       "      <th>rel_hum</th>\n",
       "      <th>net_rad</th>\n",
       "      <th>rainfall</th>\n",
       "      <th>runoff</th>\n",
       "    </tr>\n",
       "  </thead>\n",
       "  <tbody>\n",
       "    <tr>\n",
       "      <th>0</th>\n",
       "      <td>Jan</td>\n",
       "      <td>2.00</td>\n",
       "      <td>4</td>\n",
       "      <td>0.33</td>\n",
       "      <td>88</td>\n",
       "      <td>10.9</td>\n",
       "      <td>1.0</td>\n",
       "    </tr>\n",
       "    <tr>\n",
       "      <th>1</th>\n",
       "      <td>Feb</td>\n",
       "      <td>1.10</td>\n",
       "      <td>6</td>\n",
       "      <td>0.43</td>\n",
       "      <td>95</td>\n",
       "      <td>15.5</td>\n",
       "      <td>2.0</td>\n",
       "    </tr>\n",
       "    <tr>\n",
       "      <th>2</th>\n",
       "      <td>March</td>\n",
       "      <td>2.20</td>\n",
       "      <td>8</td>\n",
       "      <td>0.50</td>\n",
       "      <td>110</td>\n",
       "      <td>31.8</td>\n",
       "      <td>4.4</td>\n",
       "    </tr>\n",
       "    <tr>\n",
       "      <th>3</th>\n",
       "      <td>Apr</td>\n",
       "      <td>3.00</td>\n",
       "      <td>12</td>\n",
       "      <td>0.55</td>\n",
       "      <td>135</td>\n",
       "      <td>53.8</td>\n",
       "      <td>5.0</td>\n",
       "    </tr>\n",
       "    <tr>\n",
       "      <th>4</th>\n",
       "      <td>May</td>\n",
       "      <td>1.80</td>\n",
       "      <td>14</td>\n",
       "      <td>0.63</td>\n",
       "      <td>155</td>\n",
       "      <td>88.1</td>\n",
       "      <td>7.0</td>\n",
       "    </tr>\n",
       "    <tr>\n",
       "      <th>5</th>\n",
       "      <td>Jun</td>\n",
       "      <td>1.50</td>\n",
       "      <td>20</td>\n",
       "      <td>0.65</td>\n",
       "      <td>180</td>\n",
       "      <td>91.4</td>\n",
       "      <td>11.0</td>\n",
       "    </tr>\n",
       "    <tr>\n",
       "      <th>6</th>\n",
       "      <td>Jul</td>\n",
       "      <td>1.00</td>\n",
       "      <td>23</td>\n",
       "      <td>0.70</td>\n",
       "      <td>210</td>\n",
       "      <td>77.5</td>\n",
       "      <td>6.0</td>\n",
       "    </tr>\n",
       "    <tr>\n",
       "      <th>7</th>\n",
       "      <td>Aug</td>\n",
       "      <td>0.80</td>\n",
       "      <td>25</td>\n",
       "      <td>0.75</td>\n",
       "      <td>205</td>\n",
       "      <td>66.3</td>\n",
       "      <td>6.7</td>\n",
       "    </tr>\n",
       "    <tr>\n",
       "      <th>8</th>\n",
       "      <td>Sep</td>\n",
       "      <td>0.75</td>\n",
       "      <td>23</td>\n",
       "      <td>0.73</td>\n",
       "      <td>175</td>\n",
       "      <td>45.2</td>\n",
       "      <td>5.1</td>\n",
       "    </tr>\n",
       "    <tr>\n",
       "      <th>9</th>\n",
       "      <td>Oct</td>\n",
       "      <td>1.10</td>\n",
       "      <td>18</td>\n",
       "      <td>0.68</td>\n",
       "      <td>100</td>\n",
       "      <td>33.3</td>\n",
       "      <td>5.0</td>\n",
       "    </tr>\n",
       "    <tr>\n",
       "      <th>10</th>\n",
       "      <td>Nov</td>\n",
       "      <td>1.30</td>\n",
       "      <td>15</td>\n",
       "      <td>0.63</td>\n",
       "      <td>90</td>\n",
       "      <td>20.1</td>\n",
       "      <td>3.0</td>\n",
       "    </tr>\n",
       "    <tr>\n",
       "      <th>11</th>\n",
       "      <td>Dec</td>\n",
       "      <td>2.00</td>\n",
       "      <td>5</td>\n",
       "      <td>0.60</td>\n",
       "      <td>85</td>\n",
       "      <td>13.7</td>\n",
       "      <td>1.0</td>\n",
       "    </tr>\n",
       "  </tbody>\n",
       "</table>\n",
       "</div>"
      ],
      "text/plain": [
       "    Month  wind_speed  air_temp  rel_hum  net_rad  rainfall  runoff\n",
       "0     Jan        2.00         4     0.33       88      10.9     1.0\n",
       "1     Feb        1.10         6     0.43       95      15.5     2.0\n",
       "2   March        2.20         8     0.50      110      31.8     4.4\n",
       "3     Apr        3.00        12     0.55      135      53.8     5.0\n",
       "4     May        1.80        14     0.63      155      88.1     7.0\n",
       "5     Jun        1.50        20     0.65      180      91.4    11.0\n",
       "6     Jul        1.00        23     0.70      210      77.5     6.0\n",
       "7     Aug        0.80        25     0.75      205      66.3     6.7\n",
       "8     Sep        0.75        23     0.73      175      45.2     5.1\n",
       "9     Oct        1.10        18     0.68      100      33.3     5.0\n",
       "10    Nov        1.30        15     0.63       90      20.1     3.0\n",
       "11    Dec        2.00         5     0.60       85      13.7     1.0"
      ]
     },
     "execution_count": 3,
     "metadata": {},
     "output_type": "execute_result"
    }
   ],
   "source": [
    "df"
   ]
  },
  {
   "cell_type": "code",
   "execution_count": 4,
   "metadata": {},
   "outputs": [],
   "source": [
    "df['es'] = 0.611*np.exp((17.27*df['air_temp'])/(237.3+df['air_temp'])) #calculating saturated Vapor pressure #kPa\n",
    "df['ea'] = df['es']*df['rel_hum'] #converting relative humidity to percent #kPa"
   ]
  },
  {
   "cell_type": "code",
   "execution_count": 5,
   "metadata": {},
   "outputs": [],
   "source": [
    "#Assuming surface temperature smae as sair tempereature\n",
    "df['delta'] = (4098*df['es'])/np.power((237.3+df['air_temp']),2)"
   ]
  },
  {
   "cell_type": "code",
   "execution_count": 6,
   "metadata": {},
   "outputs": [],
   "source": [
    "#Need to convert wind speed to mm/month\n",
    "#I assume 30 days in each month, to make calculation simpler\n",
    "#df['wind_speed'] = df['wind_speed']*60*60*24*1000 #mm/month\n",
    "#Now Use Penman to calculate evaporation from lake surface\n",
    "#Assume Ground Heat Flux to be zero\n",
    "df['evap'] = (df['delta']*df['net_rad'] + ke*gamma*28.34*df['wind_speed']*(df['es']-df['ea']))/(28.34*(df['delta']+gamma))"
   ]
  },
  {
   "cell_type": "code",
   "execution_count": 7,
   "metadata": {},
   "outputs": [],
   "source": [
    "days_in_month = np.array([31,28,31,30,31,30,31,31,30,31,30,31])"
   ]
  },
  {
   "cell_type": "code",
   "execution_count": 8,
   "metadata": {},
   "outputs": [],
   "source": [
    "df['evap_month'] = df['evap'] * days_in_month"
   ]
  },
  {
   "cell_type": "code",
   "execution_count": 9,
   "metadata": {},
   "outputs": [
    {
     "data": {
      "text/html": [
       "<div>\n",
       "<style scoped>\n",
       "    .dataframe tbody tr th:only-of-type {\n",
       "        vertical-align: middle;\n",
       "    }\n",
       "\n",
       "    .dataframe tbody tr th {\n",
       "        vertical-align: top;\n",
       "    }\n",
       "\n",
       "    .dataframe thead th {\n",
       "        text-align: right;\n",
       "    }\n",
       "</style>\n",
       "<table border=\"1\" class=\"dataframe\">\n",
       "  <thead>\n",
       "    <tr style=\"text-align: right;\">\n",
       "      <th></th>\n",
       "      <th>Month</th>\n",
       "      <th>wind_speed</th>\n",
       "      <th>air_temp</th>\n",
       "      <th>rel_hum</th>\n",
       "      <th>net_rad</th>\n",
       "      <th>rainfall</th>\n",
       "      <th>runoff</th>\n",
       "      <th>es</th>\n",
       "      <th>ea</th>\n",
       "      <th>delta</th>\n",
       "      <th>evap</th>\n",
       "      <th>evap_month</th>\n",
       "    </tr>\n",
       "  </thead>\n",
       "  <tbody>\n",
       "    <tr>\n",
       "      <th>0</th>\n",
       "      <td>Jan</td>\n",
       "      <td>2.00</td>\n",
       "      <td>4</td>\n",
       "      <td>0.33</td>\n",
       "      <td>88</td>\n",
       "      <td>10.9</td>\n",
       "      <td>1.0</td>\n",
       "      <td>0.813527</td>\n",
       "      <td>0.268464</td>\n",
       "      <td>0.057257</td>\n",
       "      <td>1.468500</td>\n",
       "      <td>45.523512</td>\n",
       "    </tr>\n",
       "    <tr>\n",
       "      <th>1</th>\n",
       "      <td>Feb</td>\n",
       "      <td>1.10</td>\n",
       "      <td>6</td>\n",
       "      <td>0.43</td>\n",
       "      <td>95</td>\n",
       "      <td>15.5</td>\n",
       "      <td>2.0</td>\n",
       "      <td>0.935416</td>\n",
       "      <td>0.402229</td>\n",
       "      <td>0.064758</td>\n",
       "      <td>1.687958</td>\n",
       "      <td>47.262828</td>\n",
       "    </tr>\n",
       "    <tr>\n",
       "      <th>2</th>\n",
       "      <td>March</td>\n",
       "      <td>2.20</td>\n",
       "      <td>8</td>\n",
       "      <td>0.50</td>\n",
       "      <td>110</td>\n",
       "      <td>31.8</td>\n",
       "      <td>4.4</td>\n",
       "      <td>1.073120</td>\n",
       "      <td>0.536560</td>\n",
       "      <td>0.073084</td>\n",
       "      <td>2.071934</td>\n",
       "      <td>64.229959</td>\n",
       "    </tr>\n",
       "    <tr>\n",
       "      <th>3</th>\n",
       "      <td>Apr</td>\n",
       "      <td>3.00</td>\n",
       "      <td>12</td>\n",
       "      <td>0.55</td>\n",
       "      <td>135</td>\n",
       "      <td>53.8</td>\n",
       "      <td>5.0</td>\n",
       "      <td>1.403023</td>\n",
       "      <td>0.771663</td>\n",
       "      <td>0.092511</td>\n",
       "      <td>2.818928</td>\n",
       "      <td>84.567830</td>\n",
       "    </tr>\n",
       "    <tr>\n",
       "      <th>4</th>\n",
       "      <td>May</td>\n",
       "      <td>1.80</td>\n",
       "      <td>14</td>\n",
       "      <td>0.63</td>\n",
       "      <td>155</td>\n",
       "      <td>88.1</td>\n",
       "      <td>7.0</td>\n",
       "      <td>1.599128</td>\n",
       "      <td>1.007451</td>\n",
       "      <td>0.103770</td>\n",
       "      <td>3.385947</td>\n",
       "      <td>104.964355</td>\n",
       "    </tr>\n",
       "    <tr>\n",
       "      <th>5</th>\n",
       "      <td>Jun</td>\n",
       "      <td>1.50</td>\n",
       "      <td>20</td>\n",
       "      <td>0.65</td>\n",
       "      <td>180</td>\n",
       "      <td>91.4</td>\n",
       "      <td>11.0</td>\n",
       "      <td>2.339047</td>\n",
       "      <td>1.520380</td>\n",
       "      <td>0.144788</td>\n",
       "      <td>4.407655</td>\n",
       "      <td>132.229637</td>\n",
       "    </tr>\n",
       "    <tr>\n",
       "      <th>6</th>\n",
       "      <td>Jul</td>\n",
       "      <td>1.00</td>\n",
       "      <td>23</td>\n",
       "      <td>0.70</td>\n",
       "      <td>210</td>\n",
       "      <td>77.5</td>\n",
       "      <td>6.0</td>\n",
       "      <td>2.810358</td>\n",
       "      <td>1.967250</td>\n",
       "      <td>0.169975</td>\n",
       "      <td>5.386309</td>\n",
       "      <td>166.975594</td>\n",
       "    </tr>\n",
       "    <tr>\n",
       "      <th>7</th>\n",
       "      <td>Aug</td>\n",
       "      <td>0.80</td>\n",
       "      <td>25</td>\n",
       "      <td>0.75</td>\n",
       "      <td>205</td>\n",
       "      <td>66.3</td>\n",
       "      <td>6.7</td>\n",
       "      <td>3.168815</td>\n",
       "      <td>2.376611</td>\n",
       "      <td>0.188744</td>\n",
       "      <td>5.404776</td>\n",
       "      <td>167.548045</td>\n",
       "    </tr>\n",
       "    <tr>\n",
       "      <th>8</th>\n",
       "      <td>Sep</td>\n",
       "      <td>0.75</td>\n",
       "      <td>23</td>\n",
       "      <td>0.73</td>\n",
       "      <td>175</td>\n",
       "      <td>45.2</td>\n",
       "      <td>5.1</td>\n",
       "      <td>2.810358</td>\n",
       "      <td>2.051561</td>\n",
       "      <td>0.169975</td>\n",
       "      <td>4.488544</td>\n",
       "      <td>134.656315</td>\n",
       "    </tr>\n",
       "    <tr>\n",
       "      <th>9</th>\n",
       "      <td>Oct</td>\n",
       "      <td>1.10</td>\n",
       "      <td>18</td>\n",
       "      <td>0.68</td>\n",
       "      <td>100</td>\n",
       "      <td>33.3</td>\n",
       "      <td>5.0</td>\n",
       "      <td>2.064665</td>\n",
       "      <td>1.403972</td>\n",
       "      <td>0.129814</td>\n",
       "      <td>2.365230</td>\n",
       "      <td>73.322136</td>\n",
       "    </tr>\n",
       "    <tr>\n",
       "      <th>10</th>\n",
       "      <td>Nov</td>\n",
       "      <td>1.30</td>\n",
       "      <td>15</td>\n",
       "      <td>0.63</td>\n",
       "      <td>90</td>\n",
       "      <td>20.1</td>\n",
       "      <td>3.0</td>\n",
       "      <td>1.705905</td>\n",
       "      <td>1.074720</td>\n",
       "      <td>0.109823</td>\n",
       "      <td>2.008286</td>\n",
       "      <td>60.248583</td>\n",
       "    </tr>\n",
       "    <tr>\n",
       "      <th>11</th>\n",
       "      <td>Dec</td>\n",
       "      <td>2.00</td>\n",
       "      <td>5</td>\n",
       "      <td>0.60</td>\n",
       "      <td>85</td>\n",
       "      <td>13.7</td>\n",
       "      <td>1.0</td>\n",
       "      <td>0.872597</td>\n",
       "      <td>0.523558</td>\n",
       "      <td>0.060909</td>\n",
       "      <td>1.464462</td>\n",
       "      <td>45.398309</td>\n",
       "    </tr>\n",
       "  </tbody>\n",
       "</table>\n",
       "</div>"
      ],
      "text/plain": [
       "    Month  wind_speed  air_temp  rel_hum  net_rad  rainfall  runoff        es  \\\n",
       "0     Jan        2.00         4     0.33       88      10.9     1.0  0.813527   \n",
       "1     Feb        1.10         6     0.43       95      15.5     2.0  0.935416   \n",
       "2   March        2.20         8     0.50      110      31.8     4.4  1.073120   \n",
       "3     Apr        3.00        12     0.55      135      53.8     5.0  1.403023   \n",
       "4     May        1.80        14     0.63      155      88.1     7.0  1.599128   \n",
       "5     Jun        1.50        20     0.65      180      91.4    11.0  2.339047   \n",
       "6     Jul        1.00        23     0.70      210      77.5     6.0  2.810358   \n",
       "7     Aug        0.80        25     0.75      205      66.3     6.7  3.168815   \n",
       "8     Sep        0.75        23     0.73      175      45.2     5.1  2.810358   \n",
       "9     Oct        1.10        18     0.68      100      33.3     5.0  2.064665   \n",
       "10    Nov        1.30        15     0.63       90      20.1     3.0  1.705905   \n",
       "11    Dec        2.00         5     0.60       85      13.7     1.0  0.872597   \n",
       "\n",
       "          ea     delta      evap  evap_month  \n",
       "0   0.268464  0.057257  1.468500   45.523512  \n",
       "1   0.402229  0.064758  1.687958   47.262828  \n",
       "2   0.536560  0.073084  2.071934   64.229959  \n",
       "3   0.771663  0.092511  2.818928   84.567830  \n",
       "4   1.007451  0.103770  3.385947  104.964355  \n",
       "5   1.520380  0.144788  4.407655  132.229637  \n",
       "6   1.967250  0.169975  5.386309  166.975594  \n",
       "7   2.376611  0.188744  5.404776  167.548045  \n",
       "8   2.051561  0.169975  4.488544  134.656315  \n",
       "9   1.403972  0.129814  2.365230   73.322136  \n",
       "10  1.074720  0.109823  2.008286   60.248583  \n",
       "11  0.523558  0.060909  1.464462   45.398309  "
      ]
     },
     "execution_count": 9,
     "metadata": {},
     "output_type": "execute_result"
    }
   ],
   "source": [
    "df"
   ]
  },
  {
   "cell_type": "code",
   "execution_count": 10,
   "metadata": {},
   "outputs": [
    {
     "data": {
      "text/plain": [
       "1126.9271017242017"
      ]
     },
     "execution_count": 10,
     "metadata": {},
     "output_type": "execute_result"
    }
   ],
   "source": [
    "df.evap_month.sum()"
   ]
  },
  {
   "cell_type": "code",
   "execution_count": 11,
   "metadata": {},
   "outputs": [
    {
     "name": "stdout",
     "output_type": "stream",
     "text": [
      "lake_area = 2.707286460612633\n"
     ]
    }
   ],
   "source": [
    "annual_runoff = df.runoff.sum()/1000000.0 #km/yr\n",
    "annual_rainfall = df.rainfall.sum()/1000000.0 #km/yr\n",
    "percoloation = (ks*dh_dl/1000000.0) * 365.0 #Assuming non leap year #km/yr\n",
    "annual_evaporation = df.evap_month.sum()/1000000.0\n",
    "irrigation = (10.0e6)*(1.0e-9) #km3\n",
    "lake_area = (irrigation- 0.5*annual_runoff*750)/(annual_rainfall-annual_evaporation-percoloation)\n",
    "print('lake_area = '+str(lake_area))"
   ]
  },
  {
   "cell_type": "code",
   "execution_count": 21,
   "metadata": {},
   "outputs": [
    {
     "data": {
      "text/plain": [
       "0.0036500000000000005"
      ]
     },
     "execution_count": 21,
     "metadata": {},
     "output_type": "execute_result"
    }
   ],
   "source": [
    "percoloation"
   ]
  },
  {
   "cell_type": "code",
   "execution_count": 12,
   "metadata": {},
   "outputs": [
    {
     "data": {
      "text/plain": [
       "0.0429"
      ]
     },
     "execution_count": 12,
     "metadata": {},
     "output_type": "execute_result"
    }
   ],
   "source": [
    "annual_runoff*750"
   ]
  },
  {
   "cell_type": "code",
   "execution_count": 13,
   "metadata": {},
   "outputs": [
    {
     "data": {
      "text/plain": [
       "0.01"
      ]
     },
     "execution_count": 13,
     "metadata": {},
     "output_type": "execute_result"
    }
   ],
   "source": [
    "irrigation"
   ]
  },
  {
   "cell_type": "code",
   "execution_count": 14,
   "metadata": {},
   "outputs": [
    {
     "data": {
      "text/plain": [
       "0.0011269271017242018"
      ]
     },
     "execution_count": 14,
     "metadata": {},
     "output_type": "execute_result"
    }
   ],
   "source": [
    "annual_evaporation"
   ]
  },
  {
   "cell_type": "code",
   "execution_count": 15,
   "metadata": {},
   "outputs": [
    {
     "data": {
      "text/plain": [
       "5.72e-05"
      ]
     },
     "execution_count": 15,
     "metadata": {},
     "output_type": "execute_result"
    }
   ],
   "source": [
    "annual_runoff"
   ]
  },
  {
   "cell_type": "code",
   "execution_count": 16,
   "metadata": {},
   "outputs": [
    {
     "data": {
      "text/plain": [
       "0.0005476"
      ]
     },
     "execution_count": 16,
     "metadata": {},
     "output_type": "execute_result"
    }
   ],
   "source": [
    "annual_rainfall"
   ]
  },
  {
   "cell_type": "code",
   "execution_count": 17,
   "metadata": {},
   "outputs": [
    {
     "data": {
      "text/plain": [
       "2.707286460612633"
      ]
     },
     "execution_count": 17,
     "metadata": {},
     "output_type": "execute_result"
    }
   ],
   "source": [
    "lake_area"
   ]
  },
  {
   "cell_type": "code",
   "execution_count": 18,
   "metadata": {},
   "outputs": [
    {
     "name": "stdout",
     "output_type": "stream",
     "text": [
      "4.978285278285682\n"
     ]
    }
   ],
   "source": [
    "lake_volume = np.power((lake_area/0.67),(1/0.87))\n",
    "print (lake_volume)"
   ]
  },
  {
   "cell_type": "code",
   "execution_count": 19,
   "metadata": {},
   "outputs": [
    {
     "data": {
      "text/plain": [
       "93.91059181035014"
      ]
     },
     "execution_count": 19,
     "metadata": {},
     "output_type": "execute_result"
    }
   ],
   "source": [
    "mean_monthly_evap = df.evap_month.mean()\n",
    "mean_monthly_evap"
   ]
  },
  {
   "cell_type": "code",
   "execution_count": 20,
   "metadata": {},
   "outputs": [
    {
     "data": {
      "text/plain": [
       "1126.9271017242017"
      ]
     },
     "execution_count": 20,
     "metadata": {},
     "output_type": "execute_result"
    }
   ],
   "source": [
    "mean_annual_evap = mean_monthly_evap*12\n",
    "mean_annual_evap"
   ]
  }
 ],
 "metadata": {
  "kernelspec": {
   "display_name": "Python 3",
   "language": "python",
   "name": "python3"
  },
  "language_info": {
   "codemirror_mode": {
    "name": "ipython",
    "version": 3
   },
   "file_extension": ".py",
   "mimetype": "text/x-python",
   "name": "python",
   "nbconvert_exporter": "python",
   "pygments_lexer": "ipython3",
   "version": "3.6.6"
  }
 },
 "nbformat": 4,
 "nbformat_minor": 2
}
