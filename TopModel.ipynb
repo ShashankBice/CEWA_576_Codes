{
 "cells": [
  {
   "cell_type": "code",
   "execution_count": 1,
   "metadata": {},
   "outputs": [],
   "source": [
    "import numpy as np\n",
    "import matplotlib.pyplot as plt\n",
    "import pandas as pd\n",
    "plt.style.use('seaborn-whitegrid')\n",
    "%matplotlib inline"
   ]
  },
  {
   "cell_type": "code",
   "execution_count": 2,
   "metadata": {},
   "outputs": [],
   "source": [
    "#given in question\n",
    "lam = np.arange(1,13,1)\n",
    "freq = np.array([3500,5300,5200,4700,3800,2700,2000,1300,850,500,400,300])\n",
    "frac=freq/np.sum(freq)\n",
    "#frac=np.array([0.115,0.177,0.174,0.152,0.122,0.082,0.062,0.042,0.032,0.016,0.014,0.012])\n",
    "mean_lam=np.sum(lam*frac)/np.sum(frac)\n",
    "f = 5 #1/m\n",
    "area =27.5 #km2\n",
    "qb = 5 #m3/s\n",
    "ko = 10 #m/h\n",
    "n = 0.45\n",
    "theta_i = 0.2 #m3/m3\n",
    "p=120 #mm\n",
    "#my convention is to convert everything in m and m/hr\n",
    "qb=qb*60*60\n",
    "area=area*1000000\n",
    "p=p/1000\n",
    "#intermediate variables\n",
    "m=(n-theta_i)/f\n",
    "#mean_lam=np.mean(lam)\n",
    "rb=qb/area\n",
    "to=ko/f\n",
    "ln_t_rb=np.log(to/rb)\n",
    "mean_D=-m*(np.log(rb)-np.log(to)+mean_lam)\n",
    "mean_z = (-1/f)*(np.log(rb)-np.log(to)+mean_lam)\n"
   ]
  },
  {
   "cell_type": "code",
   "execution_count": 3,
   "metadata": {},
   "outputs": [],
   "source": [
    "df=pd.DataFrame(np.vstack((lam,freq,frac)).T, columns=['lam','freq','frac'])"
   ]
  },
  {
   "cell_type": "code",
   "execution_count": 4,
   "metadata": {},
   "outputs": [
    {
     "data": {
      "text/html": [
       "<div>\n",
       "<style scoped>\n",
       "    .dataframe tbody tr th:only-of-type {\n",
       "        vertical-align: middle;\n",
       "    }\n",
       "\n",
       "    .dataframe tbody tr th {\n",
       "        vertical-align: top;\n",
       "    }\n",
       "\n",
       "    .dataframe thead th {\n",
       "        text-align: right;\n",
       "    }\n",
       "</style>\n",
       "<table border=\"1\" class=\"dataframe\">\n",
       "  <thead>\n",
       "    <tr style=\"text-align: right;\">\n",
       "      <th></th>\n",
       "      <th>lam</th>\n",
       "      <th>freq</th>\n",
       "      <th>frac</th>\n",
       "    </tr>\n",
       "  </thead>\n",
       "  <tbody>\n",
       "    <tr>\n",
       "      <th>0</th>\n",
       "      <td>1.0</td>\n",
       "      <td>3500.0</td>\n",
       "      <td>0.114566</td>\n",
       "    </tr>\n",
       "    <tr>\n",
       "      <th>1</th>\n",
       "      <td>2.0</td>\n",
       "      <td>5300.0</td>\n",
       "      <td>0.173486</td>\n",
       "    </tr>\n",
       "    <tr>\n",
       "      <th>2</th>\n",
       "      <td>3.0</td>\n",
       "      <td>5200.0</td>\n",
       "      <td>0.170213</td>\n",
       "    </tr>\n",
       "    <tr>\n",
       "      <th>3</th>\n",
       "      <td>4.0</td>\n",
       "      <td>4700.0</td>\n",
       "      <td>0.153846</td>\n",
       "    </tr>\n",
       "    <tr>\n",
       "      <th>4</th>\n",
       "      <td>5.0</td>\n",
       "      <td>3800.0</td>\n",
       "      <td>0.124386</td>\n",
       "    </tr>\n",
       "  </tbody>\n",
       "</table>\n",
       "</div>"
      ],
      "text/plain": [
       "   lam    freq      frac\n",
       "0  1.0  3500.0  0.114566\n",
       "1  2.0  5300.0  0.173486\n",
       "2  3.0  5200.0  0.170213\n",
       "3  4.0  4700.0  0.153846\n",
       "4  5.0  3800.0  0.124386"
      ]
     },
     "execution_count": 4,
     "metadata": {},
     "output_type": "execute_result"
    }
   ],
   "source": [
    "df.head()"
   ]
  },
  {
   "cell_type": "code",
   "execution_count": 5,
   "metadata": {},
   "outputs": [],
   "source": [
    "df['cum_frac']=df.frac.cumsum()"
   ]
  },
  {
   "cell_type": "code",
   "execution_count": 6,
   "metadata": {},
   "outputs": [
    {
     "data": {
      "text/html": [
       "<div>\n",
       "<style scoped>\n",
       "    .dataframe tbody tr th:only-of-type {\n",
       "        vertical-align: middle;\n",
       "    }\n",
       "\n",
       "    .dataframe tbody tr th {\n",
       "        vertical-align: top;\n",
       "    }\n",
       "\n",
       "    .dataframe thead th {\n",
       "        text-align: right;\n",
       "    }\n",
       "</style>\n",
       "<table border=\"1\" class=\"dataframe\">\n",
       "  <thead>\n",
       "    <tr style=\"text-align: right;\">\n",
       "      <th></th>\n",
       "      <th>lam</th>\n",
       "      <th>freq</th>\n",
       "      <th>frac</th>\n",
       "      <th>cum_frac</th>\n",
       "    </tr>\n",
       "  </thead>\n",
       "  <tbody>\n",
       "    <tr>\n",
       "      <th>7</th>\n",
       "      <td>8.0</td>\n",
       "      <td>1300.0</td>\n",
       "      <td>0.042553</td>\n",
       "      <td>0.932897</td>\n",
       "    </tr>\n",
       "    <tr>\n",
       "      <th>8</th>\n",
       "      <td>9.0</td>\n",
       "      <td>850.0</td>\n",
       "      <td>0.027823</td>\n",
       "      <td>0.960720</td>\n",
       "    </tr>\n",
       "    <tr>\n",
       "      <th>9</th>\n",
       "      <td>10.0</td>\n",
       "      <td>500.0</td>\n",
       "      <td>0.016367</td>\n",
       "      <td>0.977087</td>\n",
       "    </tr>\n",
       "    <tr>\n",
       "      <th>10</th>\n",
       "      <td>11.0</td>\n",
       "      <td>400.0</td>\n",
       "      <td>0.013093</td>\n",
       "      <td>0.990180</td>\n",
       "    </tr>\n",
       "    <tr>\n",
       "      <th>11</th>\n",
       "      <td>12.0</td>\n",
       "      <td>300.0</td>\n",
       "      <td>0.009820</td>\n",
       "      <td>1.000000</td>\n",
       "    </tr>\n",
       "  </tbody>\n",
       "</table>\n",
       "</div>"
      ],
      "text/plain": [
       "     lam    freq      frac  cum_frac\n",
       "7    8.0  1300.0  0.042553  0.932897\n",
       "8    9.0   850.0  0.027823  0.960720\n",
       "9   10.0   500.0  0.016367  0.977087\n",
       "10  11.0   400.0  0.013093  0.990180\n",
       "11  12.0   300.0  0.009820  1.000000"
      ]
     },
     "execution_count": 6,
     "metadata": {},
     "output_type": "execute_result"
    }
   ],
   "source": [
    "df.tail()"
   ]
  },
  {
   "cell_type": "code",
   "execution_count": 7,
   "metadata": {},
   "outputs": [],
   "source": [
    "mask = df['lam']>=ln_t_rb\n",
    "mask1 = df['lam']<ln_t_rb"
   ]
  },
  {
   "cell_type": "code",
   "execution_count": 8,
   "metadata": {},
   "outputs": [],
   "source": [
    "df['sat_frac'] = \"\"\n",
    "df.loc[mask1, 'sat_frac'] = 0\n",
    "df.loc[mask, 'sat_frac'] = df.loc[mask, 'frac']"
   ]
  },
  {
   "cell_type": "code",
   "execution_count": 9,
   "metadata": {},
   "outputs": [
    {
     "data": {
      "text/html": [
       "<div>\n",
       "<style scoped>\n",
       "    .dataframe tbody tr th:only-of-type {\n",
       "        vertical-align: middle;\n",
       "    }\n",
       "\n",
       "    .dataframe tbody tr th {\n",
       "        vertical-align: top;\n",
       "    }\n",
       "\n",
       "    .dataframe thead th {\n",
       "        text-align: right;\n",
       "    }\n",
       "</style>\n",
       "<table border=\"1\" class=\"dataframe\">\n",
       "  <thead>\n",
       "    <tr style=\"text-align: right;\">\n",
       "      <th></th>\n",
       "      <th>lam</th>\n",
       "      <th>freq</th>\n",
       "      <th>frac</th>\n",
       "      <th>cum_frac</th>\n",
       "      <th>sat_frac</th>\n",
       "    </tr>\n",
       "  </thead>\n",
       "  <tbody>\n",
       "    <tr>\n",
       "      <th>7</th>\n",
       "      <td>8.0</td>\n",
       "      <td>1300.0</td>\n",
       "      <td>0.042553</td>\n",
       "      <td>0.932897</td>\n",
       "      <td>0</td>\n",
       "    </tr>\n",
       "    <tr>\n",
       "      <th>8</th>\n",
       "      <td>9.0</td>\n",
       "      <td>850.0</td>\n",
       "      <td>0.027823</td>\n",
       "      <td>0.960720</td>\n",
       "      <td>0.0278232</td>\n",
       "    </tr>\n",
       "    <tr>\n",
       "      <th>9</th>\n",
       "      <td>10.0</td>\n",
       "      <td>500.0</td>\n",
       "      <td>0.016367</td>\n",
       "      <td>0.977087</td>\n",
       "      <td>0.0163666</td>\n",
       "    </tr>\n",
       "    <tr>\n",
       "      <th>10</th>\n",
       "      <td>11.0</td>\n",
       "      <td>400.0</td>\n",
       "      <td>0.013093</td>\n",
       "      <td>0.990180</td>\n",
       "      <td>0.0130933</td>\n",
       "    </tr>\n",
       "    <tr>\n",
       "      <th>11</th>\n",
       "      <td>12.0</td>\n",
       "      <td>300.0</td>\n",
       "      <td>0.009820</td>\n",
       "      <td>1.000000</td>\n",
       "      <td>0.00981997</td>\n",
       "    </tr>\n",
       "  </tbody>\n",
       "</table>\n",
       "</div>"
      ],
      "text/plain": [
       "     lam    freq      frac  cum_frac    sat_frac\n",
       "7    8.0  1300.0  0.042553  0.932897           0\n",
       "8    9.0   850.0  0.027823  0.960720   0.0278232\n",
       "9   10.0   500.0  0.016367  0.977087   0.0163666\n",
       "10  11.0   400.0  0.013093  0.990180   0.0130933\n",
       "11  12.0   300.0  0.009820  1.000000  0.00981997"
      ]
     },
     "execution_count": 9,
     "metadata": {},
     "output_type": "execute_result"
    }
   ],
   "source": [
    "df.tail()"
   ]
  },
  {
   "cell_type": "code",
   "execution_count": 10,
   "metadata": {},
   "outputs": [],
   "source": [
    "df['cum_sat_frac']=df.sat_frac.cumsum()"
   ]
  },
  {
   "cell_type": "code",
   "execution_count": 11,
   "metadata": {},
   "outputs": [
    {
     "data": {
      "text/html": [
       "<div>\n",
       "<style scoped>\n",
       "    .dataframe tbody tr th:only-of-type {\n",
       "        vertical-align: middle;\n",
       "    }\n",
       "\n",
       "    .dataframe tbody tr th {\n",
       "        vertical-align: top;\n",
       "    }\n",
       "\n",
       "    .dataframe thead th {\n",
       "        text-align: right;\n",
       "    }\n",
       "</style>\n",
       "<table border=\"1\" class=\"dataframe\">\n",
       "  <thead>\n",
       "    <tr style=\"text-align: right;\">\n",
       "      <th></th>\n",
       "      <th>lam</th>\n",
       "      <th>freq</th>\n",
       "      <th>frac</th>\n",
       "      <th>cum_frac</th>\n",
       "      <th>sat_frac</th>\n",
       "      <th>cum_sat_frac</th>\n",
       "    </tr>\n",
       "  </thead>\n",
       "  <tbody>\n",
       "    <tr>\n",
       "      <th>7</th>\n",
       "      <td>8.0</td>\n",
       "      <td>1300.0</td>\n",
       "      <td>0.042553</td>\n",
       "      <td>0.932897</td>\n",
       "      <td>0</td>\n",
       "      <td>0</td>\n",
       "    </tr>\n",
       "    <tr>\n",
       "      <th>8</th>\n",
       "      <td>9.0</td>\n",
       "      <td>850.0</td>\n",
       "      <td>0.027823</td>\n",
       "      <td>0.960720</td>\n",
       "      <td>0.0278232</td>\n",
       "      <td>0.0278232</td>\n",
       "    </tr>\n",
       "    <tr>\n",
       "      <th>9</th>\n",
       "      <td>10.0</td>\n",
       "      <td>500.0</td>\n",
       "      <td>0.016367</td>\n",
       "      <td>0.977087</td>\n",
       "      <td>0.0163666</td>\n",
       "      <td>0.0441899</td>\n",
       "    </tr>\n",
       "    <tr>\n",
       "      <th>10</th>\n",
       "      <td>11.0</td>\n",
       "      <td>400.0</td>\n",
       "      <td>0.013093</td>\n",
       "      <td>0.990180</td>\n",
       "      <td>0.0130933</td>\n",
       "      <td>0.0572831</td>\n",
       "    </tr>\n",
       "    <tr>\n",
       "      <th>11</th>\n",
       "      <td>12.0</td>\n",
       "      <td>300.0</td>\n",
       "      <td>0.009820</td>\n",
       "      <td>1.000000</td>\n",
       "      <td>0.00981997</td>\n",
       "      <td>0.0671031</td>\n",
       "    </tr>\n",
       "  </tbody>\n",
       "</table>\n",
       "</div>"
      ],
      "text/plain": [
       "     lam    freq      frac  cum_frac    sat_frac cum_sat_frac\n",
       "7    8.0  1300.0  0.042553  0.932897           0            0\n",
       "8    9.0   850.0  0.027823  0.960720   0.0278232    0.0278232\n",
       "9   10.0   500.0  0.016367  0.977087   0.0163666    0.0441899\n",
       "10  11.0   400.0  0.013093  0.990180   0.0130933    0.0572831\n",
       "11  12.0   300.0  0.009820  1.000000  0.00981997    0.0671031"
      ]
     },
     "execution_count": 11,
     "metadata": {},
     "output_type": "execute_result"
    }
   ],
   "source": [
    "df.tail()"
   ]
  },
  {
   "cell_type": "code",
   "execution_count": 12,
   "metadata": {},
   "outputs": [],
   "source": [
    "df['D']=mean_D-m*(df['lam']-mean_lam)\n",
    "mask=df['D']<0\n",
    "df.loc[mask, 'D']=0"
   ]
  },
  {
   "cell_type": "code",
   "execution_count": 13,
   "metadata": {},
   "outputs": [],
   "source": [
    "df['z']=mean_z-((1/f)*(df['lam']-mean_lam))\n",
    "mask=df['z']<0\n",
    "df.loc[mask, 'z']=0"
   ]
  },
  {
   "cell_type": "code",
   "execution_count": 14,
   "metadata": {},
   "outputs": [],
   "source": [
    "df['rain']=p"
   ]
  },
  {
   "cell_type": "code",
   "execution_count": 15,
   "metadata": {},
   "outputs": [
    {
     "data": {
      "text/html": [
       "<div>\n",
       "<style scoped>\n",
       "    .dataframe tbody tr th:only-of-type {\n",
       "        vertical-align: middle;\n",
       "    }\n",
       "\n",
       "    .dataframe tbody tr th {\n",
       "        vertical-align: top;\n",
       "    }\n",
       "\n",
       "    .dataframe thead th {\n",
       "        text-align: right;\n",
       "    }\n",
       "</style>\n",
       "<table border=\"1\" class=\"dataframe\">\n",
       "  <thead>\n",
       "    <tr style=\"text-align: right;\">\n",
       "      <th></th>\n",
       "      <th>lam</th>\n",
       "      <th>freq</th>\n",
       "      <th>frac</th>\n",
       "      <th>cum_frac</th>\n",
       "      <th>sat_frac</th>\n",
       "      <th>cum_sat_frac</th>\n",
       "      <th>D</th>\n",
       "      <th>z</th>\n",
       "      <th>rain</th>\n",
       "    </tr>\n",
       "  </thead>\n",
       "  <tbody>\n",
       "    <tr>\n",
       "      <th>0</th>\n",
       "      <td>1.0</td>\n",
       "      <td>3500.0</td>\n",
       "      <td>0.114566</td>\n",
       "      <td>0.114566</td>\n",
       "      <td>0</td>\n",
       "      <td>0</td>\n",
       "      <td>0.351236</td>\n",
       "      <td>1.404943</td>\n",
       "      <td>0.12</td>\n",
       "    </tr>\n",
       "    <tr>\n",
       "      <th>1</th>\n",
       "      <td>2.0</td>\n",
       "      <td>5300.0</td>\n",
       "      <td>0.173486</td>\n",
       "      <td>0.288052</td>\n",
       "      <td>0</td>\n",
       "      <td>0</td>\n",
       "      <td>0.301236</td>\n",
       "      <td>1.204943</td>\n",
       "      <td>0.12</td>\n",
       "    </tr>\n",
       "    <tr>\n",
       "      <th>2</th>\n",
       "      <td>3.0</td>\n",
       "      <td>5200.0</td>\n",
       "      <td>0.170213</td>\n",
       "      <td>0.458265</td>\n",
       "      <td>0</td>\n",
       "      <td>0</td>\n",
       "      <td>0.251236</td>\n",
       "      <td>1.004943</td>\n",
       "      <td>0.12</td>\n",
       "    </tr>\n",
       "    <tr>\n",
       "      <th>3</th>\n",
       "      <td>4.0</td>\n",
       "      <td>4700.0</td>\n",
       "      <td>0.153846</td>\n",
       "      <td>0.612111</td>\n",
       "      <td>0</td>\n",
       "      <td>0</td>\n",
       "      <td>0.201236</td>\n",
       "      <td>0.804943</td>\n",
       "      <td>0.12</td>\n",
       "    </tr>\n",
       "    <tr>\n",
       "      <th>4</th>\n",
       "      <td>5.0</td>\n",
       "      <td>3800.0</td>\n",
       "      <td>0.124386</td>\n",
       "      <td>0.736498</td>\n",
       "      <td>0</td>\n",
       "      <td>0</td>\n",
       "      <td>0.151236</td>\n",
       "      <td>0.604943</td>\n",
       "      <td>0.12</td>\n",
       "    </tr>\n",
       "  </tbody>\n",
       "</table>\n",
       "</div>"
      ],
      "text/plain": [
       "   lam    freq      frac  cum_frac sat_frac cum_sat_frac         D         z  \\\n",
       "0  1.0  3500.0  0.114566  0.114566        0            0  0.351236  1.404943   \n",
       "1  2.0  5300.0  0.173486  0.288052        0            0  0.301236  1.204943   \n",
       "2  3.0  5200.0  0.170213  0.458265        0            0  0.251236  1.004943   \n",
       "3  4.0  4700.0  0.153846  0.612111        0            0  0.201236  0.804943   \n",
       "4  5.0  3800.0  0.124386  0.736498        0            0  0.151236  0.604943   \n",
       "\n",
       "   rain  \n",
       "0  0.12  \n",
       "1  0.12  \n",
       "2  0.12  \n",
       "3  0.12  \n",
       "4  0.12  "
      ]
     },
     "execution_count": 15,
     "metadata": {},
     "output_type": "execute_result"
    }
   ],
   "source": [
    "df.head()"
   ]
  },
  {
   "cell_type": "code",
   "execution_count": 16,
   "metadata": {},
   "outputs": [],
   "source": [
    "df['D_p']=df['D']-df['rain']\n",
    "mask=df['D_p']>0\n",
    "mask1=df['D_p']<0\n",
    "df['Do']=\"\"\n",
    "df.loc[mask,'Do'] = df.loc[mask,'D_p']\n",
    "df.loc[mask1,'Do'] = 0"
   ]
  },
  {
   "cell_type": "code",
   "execution_count": 17,
   "metadata": {},
   "outputs": [
    {
     "data": {
      "text/html": [
       "<div>\n",
       "<style scoped>\n",
       "    .dataframe tbody tr th:only-of-type {\n",
       "        vertical-align: middle;\n",
       "    }\n",
       "\n",
       "    .dataframe tbody tr th {\n",
       "        vertical-align: top;\n",
       "    }\n",
       "\n",
       "    .dataframe thead th {\n",
       "        text-align: right;\n",
       "    }\n",
       "</style>\n",
       "<table border=\"1\" class=\"dataframe\">\n",
       "  <thead>\n",
       "    <tr style=\"text-align: right;\">\n",
       "      <th></th>\n",
       "      <th>lam</th>\n",
       "      <th>freq</th>\n",
       "      <th>frac</th>\n",
       "      <th>cum_frac</th>\n",
       "      <th>sat_frac</th>\n",
       "      <th>cum_sat_frac</th>\n",
       "      <th>D</th>\n",
       "      <th>z</th>\n",
       "      <th>rain</th>\n",
       "      <th>D_p</th>\n",
       "      <th>Do</th>\n",
       "    </tr>\n",
       "  </thead>\n",
       "  <tbody>\n",
       "    <tr>\n",
       "      <th>0</th>\n",
       "      <td>1.0</td>\n",
       "      <td>3500.0</td>\n",
       "      <td>0.114566</td>\n",
       "      <td>0.114566</td>\n",
       "      <td>0</td>\n",
       "      <td>0</td>\n",
       "      <td>0.351236</td>\n",
       "      <td>1.404943</td>\n",
       "      <td>0.12</td>\n",
       "      <td>0.231236</td>\n",
       "      <td>0.231236</td>\n",
       "    </tr>\n",
       "    <tr>\n",
       "      <th>1</th>\n",
       "      <td>2.0</td>\n",
       "      <td>5300.0</td>\n",
       "      <td>0.173486</td>\n",
       "      <td>0.288052</td>\n",
       "      <td>0</td>\n",
       "      <td>0</td>\n",
       "      <td>0.301236</td>\n",
       "      <td>1.204943</td>\n",
       "      <td>0.12</td>\n",
       "      <td>0.181236</td>\n",
       "      <td>0.181236</td>\n",
       "    </tr>\n",
       "    <tr>\n",
       "      <th>2</th>\n",
       "      <td>3.0</td>\n",
       "      <td>5200.0</td>\n",
       "      <td>0.170213</td>\n",
       "      <td>0.458265</td>\n",
       "      <td>0</td>\n",
       "      <td>0</td>\n",
       "      <td>0.251236</td>\n",
       "      <td>1.004943</td>\n",
       "      <td>0.12</td>\n",
       "      <td>0.131236</td>\n",
       "      <td>0.131236</td>\n",
       "    </tr>\n",
       "    <tr>\n",
       "      <th>3</th>\n",
       "      <td>4.0</td>\n",
       "      <td>4700.0</td>\n",
       "      <td>0.153846</td>\n",
       "      <td>0.612111</td>\n",
       "      <td>0</td>\n",
       "      <td>0</td>\n",
       "      <td>0.201236</td>\n",
       "      <td>0.804943</td>\n",
       "      <td>0.12</td>\n",
       "      <td>0.081236</td>\n",
       "      <td>0.0812358</td>\n",
       "    </tr>\n",
       "    <tr>\n",
       "      <th>4</th>\n",
       "      <td>5.0</td>\n",
       "      <td>3800.0</td>\n",
       "      <td>0.124386</td>\n",
       "      <td>0.736498</td>\n",
       "      <td>0</td>\n",
       "      <td>0</td>\n",
       "      <td>0.151236</td>\n",
       "      <td>0.604943</td>\n",
       "      <td>0.12</td>\n",
       "      <td>0.031236</td>\n",
       "      <td>0.0312358</td>\n",
       "    </tr>\n",
       "  </tbody>\n",
       "</table>\n",
       "</div>"
      ],
      "text/plain": [
       "   lam    freq      frac  cum_frac sat_frac cum_sat_frac         D         z  \\\n",
       "0  1.0  3500.0  0.114566  0.114566        0            0  0.351236  1.404943   \n",
       "1  2.0  5300.0  0.173486  0.288052        0            0  0.301236  1.204943   \n",
       "2  3.0  5200.0  0.170213  0.458265        0            0  0.251236  1.004943   \n",
       "3  4.0  4700.0  0.153846  0.612111        0            0  0.201236  0.804943   \n",
       "4  5.0  3800.0  0.124386  0.736498        0            0  0.151236  0.604943   \n",
       "\n",
       "   rain       D_p         Do  \n",
       "0  0.12  0.231236   0.231236  \n",
       "1  0.12  0.181236   0.181236  \n",
       "2  0.12  0.131236   0.131236  \n",
       "3  0.12  0.081236  0.0812358  \n",
       "4  0.12  0.031236  0.0312358  "
      ]
     },
     "execution_count": 17,
     "metadata": {},
     "output_type": "execute_result"
    }
   ],
   "source": [
    "df.head()"
   ]
  },
  {
   "cell_type": "code",
   "execution_count": 18,
   "metadata": {},
   "outputs": [
    {
     "data": {
      "text/html": [
       "<div>\n",
       "<style scoped>\n",
       "    .dataframe tbody tr th:only-of-type {\n",
       "        vertical-align: middle;\n",
       "    }\n",
       "\n",
       "    .dataframe tbody tr th {\n",
       "        vertical-align: top;\n",
       "    }\n",
       "\n",
       "    .dataframe thead th {\n",
       "        text-align: right;\n",
       "    }\n",
       "</style>\n",
       "<table border=\"1\" class=\"dataframe\">\n",
       "  <thead>\n",
       "    <tr style=\"text-align: right;\">\n",
       "      <th></th>\n",
       "      <th>lam</th>\n",
       "      <th>freq</th>\n",
       "      <th>frac</th>\n",
       "      <th>cum_frac</th>\n",
       "      <th>sat_frac</th>\n",
       "      <th>cum_sat_frac</th>\n",
       "      <th>D</th>\n",
       "      <th>z</th>\n",
       "      <th>rain</th>\n",
       "      <th>D_p</th>\n",
       "      <th>Do</th>\n",
       "    </tr>\n",
       "  </thead>\n",
       "  <tbody>\n",
       "    <tr>\n",
       "      <th>7</th>\n",
       "      <td>8.0</td>\n",
       "      <td>1300.0</td>\n",
       "      <td>0.042553</td>\n",
       "      <td>0.932897</td>\n",
       "      <td>0</td>\n",
       "      <td>0</td>\n",
       "      <td>0.001236</td>\n",
       "      <td>0.004943</td>\n",
       "      <td>0.12</td>\n",
       "      <td>-0.118764</td>\n",
       "      <td>0</td>\n",
       "    </tr>\n",
       "    <tr>\n",
       "      <th>8</th>\n",
       "      <td>9.0</td>\n",
       "      <td>850.0</td>\n",
       "      <td>0.027823</td>\n",
       "      <td>0.960720</td>\n",
       "      <td>0.0278232</td>\n",
       "      <td>0.0278232</td>\n",
       "      <td>0.000000</td>\n",
       "      <td>0.000000</td>\n",
       "      <td>0.12</td>\n",
       "      <td>-0.120000</td>\n",
       "      <td>0</td>\n",
       "    </tr>\n",
       "    <tr>\n",
       "      <th>9</th>\n",
       "      <td>10.0</td>\n",
       "      <td>500.0</td>\n",
       "      <td>0.016367</td>\n",
       "      <td>0.977087</td>\n",
       "      <td>0.0163666</td>\n",
       "      <td>0.0441899</td>\n",
       "      <td>0.000000</td>\n",
       "      <td>0.000000</td>\n",
       "      <td>0.12</td>\n",
       "      <td>-0.120000</td>\n",
       "      <td>0</td>\n",
       "    </tr>\n",
       "    <tr>\n",
       "      <th>10</th>\n",
       "      <td>11.0</td>\n",
       "      <td>400.0</td>\n",
       "      <td>0.013093</td>\n",
       "      <td>0.990180</td>\n",
       "      <td>0.0130933</td>\n",
       "      <td>0.0572831</td>\n",
       "      <td>0.000000</td>\n",
       "      <td>0.000000</td>\n",
       "      <td>0.12</td>\n",
       "      <td>-0.120000</td>\n",
       "      <td>0</td>\n",
       "    </tr>\n",
       "    <tr>\n",
       "      <th>11</th>\n",
       "      <td>12.0</td>\n",
       "      <td>300.0</td>\n",
       "      <td>0.009820</td>\n",
       "      <td>1.000000</td>\n",
       "      <td>0.00981997</td>\n",
       "      <td>0.0671031</td>\n",
       "      <td>0.000000</td>\n",
       "      <td>0.000000</td>\n",
       "      <td>0.12</td>\n",
       "      <td>-0.120000</td>\n",
       "      <td>0</td>\n",
       "    </tr>\n",
       "  </tbody>\n",
       "</table>\n",
       "</div>"
      ],
      "text/plain": [
       "     lam    freq      frac  cum_frac    sat_frac cum_sat_frac         D  \\\n",
       "7    8.0  1300.0  0.042553  0.932897           0            0  0.001236   \n",
       "8    9.0   850.0  0.027823  0.960720   0.0278232    0.0278232  0.000000   \n",
       "9   10.0   500.0  0.016367  0.977087   0.0163666    0.0441899  0.000000   \n",
       "10  11.0   400.0  0.013093  0.990180   0.0130933    0.0572831  0.000000   \n",
       "11  12.0   300.0  0.009820  1.000000  0.00981997    0.0671031  0.000000   \n",
       "\n",
       "           z  rain       D_p Do  \n",
       "7   0.004943  0.12 -0.118764  0  \n",
       "8   0.000000  0.12 -0.120000  0  \n",
       "9   0.000000  0.12 -0.120000  0  \n",
       "10  0.000000  0.12 -0.120000  0  \n",
       "11  0.000000  0.12 -0.120000  0  "
      ]
     },
     "execution_count": 18,
     "metadata": {},
     "output_type": "execute_result"
    }
   ],
   "source": [
    "df.tail()"
   ]
  },
  {
   "cell_type": "code",
   "execution_count": 19,
   "metadata": {},
   "outputs": [],
   "source": [
    "df['z_p']=df['z']-(df['rain']/(n-theta_i))\n",
    "mask=df['z_p']>0\n",
    "mask1=df['z_p']<0\n",
    "df['zo']=\"\"\n",
    "df.loc[mask,'zo'] = df.loc[mask,'z_p']\n",
    "df.loc[mask1,'zo'] = 0"
   ]
  },
  {
   "cell_type": "code",
   "execution_count": 20,
   "metadata": {},
   "outputs": [
    {
     "data": {
      "text/html": [
       "<div>\n",
       "<style scoped>\n",
       "    .dataframe tbody tr th:only-of-type {\n",
       "        vertical-align: middle;\n",
       "    }\n",
       "\n",
       "    .dataframe tbody tr th {\n",
       "        vertical-align: top;\n",
       "    }\n",
       "\n",
       "    .dataframe thead th {\n",
       "        text-align: right;\n",
       "    }\n",
       "</style>\n",
       "<table border=\"1\" class=\"dataframe\">\n",
       "  <thead>\n",
       "    <tr style=\"text-align: right;\">\n",
       "      <th></th>\n",
       "      <th>lam</th>\n",
       "      <th>freq</th>\n",
       "      <th>frac</th>\n",
       "      <th>cum_frac</th>\n",
       "      <th>sat_frac</th>\n",
       "      <th>cum_sat_frac</th>\n",
       "      <th>D</th>\n",
       "      <th>z</th>\n",
       "      <th>rain</th>\n",
       "      <th>D_p</th>\n",
       "      <th>Do</th>\n",
       "      <th>z_p</th>\n",
       "      <th>zo</th>\n",
       "    </tr>\n",
       "  </thead>\n",
       "  <tbody>\n",
       "    <tr>\n",
       "      <th>7</th>\n",
       "      <td>8.0</td>\n",
       "      <td>1300.0</td>\n",
       "      <td>0.042553</td>\n",
       "      <td>0.932897</td>\n",
       "      <td>0</td>\n",
       "      <td>0</td>\n",
       "      <td>0.001236</td>\n",
       "      <td>0.004943</td>\n",
       "      <td>0.12</td>\n",
       "      <td>-0.118764</td>\n",
       "      <td>0</td>\n",
       "      <td>-0.475057</td>\n",
       "      <td>0</td>\n",
       "    </tr>\n",
       "    <tr>\n",
       "      <th>8</th>\n",
       "      <td>9.0</td>\n",
       "      <td>850.0</td>\n",
       "      <td>0.027823</td>\n",
       "      <td>0.960720</td>\n",
       "      <td>0.0278232</td>\n",
       "      <td>0.0278232</td>\n",
       "      <td>0.000000</td>\n",
       "      <td>0.000000</td>\n",
       "      <td>0.12</td>\n",
       "      <td>-0.120000</td>\n",
       "      <td>0</td>\n",
       "      <td>-0.480000</td>\n",
       "      <td>0</td>\n",
       "    </tr>\n",
       "    <tr>\n",
       "      <th>9</th>\n",
       "      <td>10.0</td>\n",
       "      <td>500.0</td>\n",
       "      <td>0.016367</td>\n",
       "      <td>0.977087</td>\n",
       "      <td>0.0163666</td>\n",
       "      <td>0.0441899</td>\n",
       "      <td>0.000000</td>\n",
       "      <td>0.000000</td>\n",
       "      <td>0.12</td>\n",
       "      <td>-0.120000</td>\n",
       "      <td>0</td>\n",
       "      <td>-0.480000</td>\n",
       "      <td>0</td>\n",
       "    </tr>\n",
       "    <tr>\n",
       "      <th>10</th>\n",
       "      <td>11.0</td>\n",
       "      <td>400.0</td>\n",
       "      <td>0.013093</td>\n",
       "      <td>0.990180</td>\n",
       "      <td>0.0130933</td>\n",
       "      <td>0.0572831</td>\n",
       "      <td>0.000000</td>\n",
       "      <td>0.000000</td>\n",
       "      <td>0.12</td>\n",
       "      <td>-0.120000</td>\n",
       "      <td>0</td>\n",
       "      <td>-0.480000</td>\n",
       "      <td>0</td>\n",
       "    </tr>\n",
       "    <tr>\n",
       "      <th>11</th>\n",
       "      <td>12.0</td>\n",
       "      <td>300.0</td>\n",
       "      <td>0.009820</td>\n",
       "      <td>1.000000</td>\n",
       "      <td>0.00981997</td>\n",
       "      <td>0.0671031</td>\n",
       "      <td>0.000000</td>\n",
       "      <td>0.000000</td>\n",
       "      <td>0.12</td>\n",
       "      <td>-0.120000</td>\n",
       "      <td>0</td>\n",
       "      <td>-0.480000</td>\n",
       "      <td>0</td>\n",
       "    </tr>\n",
       "  </tbody>\n",
       "</table>\n",
       "</div>"
      ],
      "text/plain": [
       "     lam    freq      frac  cum_frac    sat_frac cum_sat_frac         D  \\\n",
       "7    8.0  1300.0  0.042553  0.932897           0            0  0.001236   \n",
       "8    9.0   850.0  0.027823  0.960720   0.0278232    0.0278232  0.000000   \n",
       "9   10.0   500.0  0.016367  0.977087   0.0163666    0.0441899  0.000000   \n",
       "10  11.0   400.0  0.013093  0.990180   0.0130933    0.0572831  0.000000   \n",
       "11  12.0   300.0  0.009820  1.000000  0.00981997    0.0671031  0.000000   \n",
       "\n",
       "           z  rain       D_p Do       z_p zo  \n",
       "7   0.004943  0.12 -0.118764  0 -0.475057  0  \n",
       "8   0.000000  0.12 -0.120000  0 -0.480000  0  \n",
       "9   0.000000  0.12 -0.120000  0 -0.480000  0  \n",
       "10  0.000000  0.12 -0.120000  0 -0.480000  0  \n",
       "11  0.000000  0.12 -0.120000  0 -0.480000  0  "
      ]
     },
     "execution_count": 20,
     "metadata": {},
     "output_type": "execute_result"
    }
   ],
   "source": [
    "df.tail()"
   ]
  },
  {
   "cell_type": "code",
   "execution_count": 21,
   "metadata": {},
   "outputs": [],
   "source": [
    "mask=df['rain']>df['D']\n",
    "mask1=df['rain']<=df['D']\n",
    "df['runoff']=\"\"\n",
    "df.loc[mask, 'runoff']=df.loc[mask,'rain']-df.loc[mask, 'D']\n",
    "df.loc[mask1, 'runoff'] = 0"
   ]
  },
  {
   "cell_type": "code",
   "execution_count": 22,
   "metadata": {},
   "outputs": [
    {
     "data": {
      "text/html": [
       "<div>\n",
       "<style scoped>\n",
       "    .dataframe tbody tr th:only-of-type {\n",
       "        vertical-align: middle;\n",
       "    }\n",
       "\n",
       "    .dataframe tbody tr th {\n",
       "        vertical-align: top;\n",
       "    }\n",
       "\n",
       "    .dataframe thead th {\n",
       "        text-align: right;\n",
       "    }\n",
       "</style>\n",
       "<table border=\"1\" class=\"dataframe\">\n",
       "  <thead>\n",
       "    <tr style=\"text-align: right;\">\n",
       "      <th></th>\n",
       "      <th>lam</th>\n",
       "      <th>freq</th>\n",
       "      <th>frac</th>\n",
       "      <th>cum_frac</th>\n",
       "      <th>sat_frac</th>\n",
       "      <th>cum_sat_frac</th>\n",
       "      <th>D</th>\n",
       "      <th>z</th>\n",
       "      <th>rain</th>\n",
       "      <th>D_p</th>\n",
       "      <th>Do</th>\n",
       "      <th>z_p</th>\n",
       "      <th>zo</th>\n",
       "      <th>runoff</th>\n",
       "    </tr>\n",
       "  </thead>\n",
       "  <tbody>\n",
       "    <tr>\n",
       "      <th>7</th>\n",
       "      <td>8.0</td>\n",
       "      <td>1300.0</td>\n",
       "      <td>0.042553</td>\n",
       "      <td>0.932897</td>\n",
       "      <td>0</td>\n",
       "      <td>0</td>\n",
       "      <td>0.001236</td>\n",
       "      <td>0.004943</td>\n",
       "      <td>0.12</td>\n",
       "      <td>-0.118764</td>\n",
       "      <td>0</td>\n",
       "      <td>-0.475057</td>\n",
       "      <td>0</td>\n",
       "      <td>0.118764</td>\n",
       "    </tr>\n",
       "    <tr>\n",
       "      <th>8</th>\n",
       "      <td>9.0</td>\n",
       "      <td>850.0</td>\n",
       "      <td>0.027823</td>\n",
       "      <td>0.960720</td>\n",
       "      <td>0.0278232</td>\n",
       "      <td>0.0278232</td>\n",
       "      <td>0.000000</td>\n",
       "      <td>0.000000</td>\n",
       "      <td>0.12</td>\n",
       "      <td>-0.120000</td>\n",
       "      <td>0</td>\n",
       "      <td>-0.480000</td>\n",
       "      <td>0</td>\n",
       "      <td>0.12</td>\n",
       "    </tr>\n",
       "    <tr>\n",
       "      <th>9</th>\n",
       "      <td>10.0</td>\n",
       "      <td>500.0</td>\n",
       "      <td>0.016367</td>\n",
       "      <td>0.977087</td>\n",
       "      <td>0.0163666</td>\n",
       "      <td>0.0441899</td>\n",
       "      <td>0.000000</td>\n",
       "      <td>0.000000</td>\n",
       "      <td>0.12</td>\n",
       "      <td>-0.120000</td>\n",
       "      <td>0</td>\n",
       "      <td>-0.480000</td>\n",
       "      <td>0</td>\n",
       "      <td>0.12</td>\n",
       "    </tr>\n",
       "    <tr>\n",
       "      <th>10</th>\n",
       "      <td>11.0</td>\n",
       "      <td>400.0</td>\n",
       "      <td>0.013093</td>\n",
       "      <td>0.990180</td>\n",
       "      <td>0.0130933</td>\n",
       "      <td>0.0572831</td>\n",
       "      <td>0.000000</td>\n",
       "      <td>0.000000</td>\n",
       "      <td>0.12</td>\n",
       "      <td>-0.120000</td>\n",
       "      <td>0</td>\n",
       "      <td>-0.480000</td>\n",
       "      <td>0</td>\n",
       "      <td>0.12</td>\n",
       "    </tr>\n",
       "    <tr>\n",
       "      <th>11</th>\n",
       "      <td>12.0</td>\n",
       "      <td>300.0</td>\n",
       "      <td>0.009820</td>\n",
       "      <td>1.000000</td>\n",
       "      <td>0.00981997</td>\n",
       "      <td>0.0671031</td>\n",
       "      <td>0.000000</td>\n",
       "      <td>0.000000</td>\n",
       "      <td>0.12</td>\n",
       "      <td>-0.120000</td>\n",
       "      <td>0</td>\n",
       "      <td>-0.480000</td>\n",
       "      <td>0</td>\n",
       "      <td>0.12</td>\n",
       "    </tr>\n",
       "  </tbody>\n",
       "</table>\n",
       "</div>"
      ],
      "text/plain": [
       "     lam    freq      frac  cum_frac    sat_frac cum_sat_frac         D  \\\n",
       "7    8.0  1300.0  0.042553  0.932897           0            0  0.001236   \n",
       "8    9.0   850.0  0.027823  0.960720   0.0278232    0.0278232  0.000000   \n",
       "9   10.0   500.0  0.016367  0.977087   0.0163666    0.0441899  0.000000   \n",
       "10  11.0   400.0  0.013093  0.990180   0.0130933    0.0572831  0.000000   \n",
       "11  12.0   300.0  0.009820  1.000000  0.00981997    0.0671031  0.000000   \n",
       "\n",
       "           z  rain       D_p Do       z_p zo    runoff  \n",
       "7   0.004943  0.12 -0.118764  0 -0.475057  0  0.118764  \n",
       "8   0.000000  0.12 -0.120000  0 -0.480000  0      0.12  \n",
       "9   0.000000  0.12 -0.120000  0 -0.480000  0      0.12  \n",
       "10  0.000000  0.12 -0.120000  0 -0.480000  0      0.12  \n",
       "11  0.000000  0.12 -0.120000  0 -0.480000  0      0.12  "
      ]
     },
     "execution_count": 22,
     "metadata": {},
     "output_type": "execute_result"
    }
   ],
   "source": [
    "df.tail()"
   ]
  },
  {
   "cell_type": "code",
   "execution_count": 23,
   "metadata": {},
   "outputs": [
    {
     "data": {
      "text/plain": [
       "4.214402618657938"
      ]
     },
     "execution_count": 23,
     "metadata": {},
     "output_type": "execute_result"
    }
   ],
   "source": [
    "mean_lam"
   ]
  },
  {
   "cell_type": "code",
   "execution_count": 24,
   "metadata": {},
   "outputs": [],
   "source": [
    "mean_zo=np.sum(df.zo.values*df.frac.values)/np.sum(df.frac.values)\n",
    "mean_Do=np.sum(df.Do.values*df.frac.values)/np.sum(df.frac.values)\n",
    "mean_runoff=np.sum(df.runoff.values*df.frac.values)/np.sum(df.frac.values)\n"
   ]
  },
  {
   "cell_type": "code",
   "execution_count": 25,
   "metadata": {},
   "outputs": [
    {
     "data": {
      "text/plain": [
       "0.0006545454545454545"
      ]
     },
     "execution_count": 25,
     "metadata": {},
     "output_type": "execute_result"
    }
   ],
   "source": [
    "rb"
   ]
  },
  {
   "cell_type": "code",
   "execution_count": 26,
   "metadata": {},
   "outputs": [
    {
     "data": {
      "text/plain": [
       "0.38661948210909974"
      ]
     },
     "execution_count": 26,
     "metadata": {},
     "output_type": "execute_result"
    }
   ],
   "source": [
    "mean_zo"
   ]
  },
  {
   "cell_type": "code",
   "execution_count": 27,
   "metadata": {},
   "outputs": [
    {
     "data": {
      "text/plain": [
       "0.7620628175321011"
      ]
     },
     "execution_count": 27,
     "metadata": {},
     "output_type": "execute_result"
    }
   ],
   "source": [
    "mean_z"
   ]
  },
  {
   "cell_type": "code",
   "execution_count": 28,
   "metadata": {},
   "outputs": [],
   "source": [
    "df.to_csv('Topmodel.csv')"
   ]
  },
  {
   "cell_type": "code",
   "execution_count": 29,
   "metadata": {},
   "outputs": [
    {
     "data": {
      "text/plain": [
       "0.019266284389671585"
      ]
     },
     "execution_count": 29,
     "metadata": {},
     "output_type": "execute_result"
    }
   ],
   "source": [
    "mean_runoff"
   ]
  },
  {
   "cell_type": "code",
   "execution_count": 30,
   "metadata": {},
   "outputs": [],
   "source": [
    "rb_final=to*np.exp(-mean_lam)*np.exp(-(mean_Do/m))"
   ]
  },
  {
   "cell_type": "code",
   "execution_count": 31,
   "metadata": {},
   "outputs": [
    {
     "data": {
      "text/plain": [
       "0.00427764416938359"
      ]
     },
     "execution_count": 31,
     "metadata": {},
     "output_type": "execute_result"
    }
   ],
   "source": [
    "rb_final"
   ]
  },
  {
   "cell_type": "code",
   "execution_count": 32,
   "metadata": {},
   "outputs": [],
   "source": [
    "t=np.arange(0,50.1,0.2)"
   ]
  },
  {
   "cell_type": "code",
   "execution_count": 33,
   "metadata": {},
   "outputs": [
    {
     "data": {
      "text/plain": [
       "(251,)"
      ]
     },
     "execution_count": 33,
     "metadata": {},
     "output_type": "execute_result"
    }
   ],
   "source": [
    "np.shape(t)"
   ]
  },
  {
   "cell_type": "code",
   "execution_count": 34,
   "metadata": {},
   "outputs": [],
   "source": [
    "rb=np.zeros((251,),dtype=np.float32)\n",
    "Da=np.zeros((251,),dtype=np.float32)"
   ]
  },
  {
   "cell_type": "code",
   "execution_count": 35,
   "metadata": {},
   "outputs": [
    {
     "data": {
      "text/plain": [
       "array([ 0. ,  0.2,  0.4,  0.6,  0.8,  1. ,  1.2,  1.4,  1.6,  1.8,  2. ,\n",
       "        2.2,  2.4,  2.6,  2.8,  3. ,  3.2,  3.4,  3.6,  3.8,  4. ,  4.2,\n",
       "        4.4,  4.6,  4.8,  5. ,  5.2,  5.4,  5.6,  5.8,  6. ,  6.2,  6.4,\n",
       "        6.6,  6.8,  7. ,  7.2,  7.4,  7.6,  7.8,  8. ,  8.2,  8.4,  8.6,\n",
       "        8.8,  9. ,  9.2,  9.4,  9.6,  9.8, 10. , 10.2, 10.4, 10.6, 10.8,\n",
       "       11. , 11.2, 11.4, 11.6, 11.8, 12. , 12.2, 12.4, 12.6, 12.8, 13. ,\n",
       "       13.2, 13.4, 13.6, 13.8, 14. , 14.2, 14.4, 14.6, 14.8, 15. , 15.2,\n",
       "       15.4, 15.6, 15.8, 16. , 16.2, 16.4, 16.6, 16.8, 17. , 17.2, 17.4,\n",
       "       17.6, 17.8, 18. , 18.2, 18.4, 18.6, 18.8, 19. , 19.2, 19.4, 19.6,\n",
       "       19.8, 20. , 20.2, 20.4, 20.6, 20.8, 21. , 21.2, 21.4, 21.6, 21.8,\n",
       "       22. , 22.2, 22.4, 22.6, 22.8, 23. , 23.2, 23.4, 23.6, 23.8, 24. ,\n",
       "       24.2, 24.4, 24.6, 24.8, 25. , 25.2, 25.4, 25.6, 25.8, 26. , 26.2,\n",
       "       26.4, 26.6, 26.8, 27. , 27.2, 27.4, 27.6, 27.8, 28. , 28.2, 28.4,\n",
       "       28.6, 28.8, 29. , 29.2, 29.4, 29.6, 29.8, 30. , 30.2, 30.4, 30.6,\n",
       "       30.8, 31. , 31.2, 31.4, 31.6, 31.8, 32. , 32.2, 32.4, 32.6, 32.8,\n",
       "       33. , 33.2, 33.4, 33.6, 33.8, 34. , 34.2, 34.4, 34.6, 34.8, 35. ,\n",
       "       35.2, 35.4, 35.6, 35.8, 36. , 36.2, 36.4, 36.6, 36.8, 37. , 37.2,\n",
       "       37.4, 37.6, 37.8, 38. , 38.2, 38.4, 38.6, 38.8, 39. , 39.2, 39.4,\n",
       "       39.6, 39.8, 40. , 40.2, 40.4, 40.6, 40.8, 41. , 41.2, 41.4, 41.6,\n",
       "       41.8, 42. , 42.2, 42.4, 42.6, 42.8, 43. , 43.2, 43.4, 43.6, 43.8,\n",
       "       44. , 44.2, 44.4, 44.6, 44.8, 45. , 45.2, 45.4, 45.6, 45.8, 46. ,\n",
       "       46.2, 46.4, 46.6, 46.8, 47. , 47.2, 47.4, 47.6, 47.8, 48. , 48.2,\n",
       "       48.4, 48.6, 48.8, 49. , 49.2, 49.4, 49.6, 49.8, 50. ])"
      ]
     },
     "execution_count": 35,
     "metadata": {},
     "output_type": "execute_result"
    }
   ],
   "source": [
    "t"
   ]
  },
  {
   "cell_type": "code",
   "execution_count": 36,
   "metadata": {},
   "outputs": [],
   "source": [
    "rb[0]=rb_final\n",
    "Da[0]=mean_Do"
   ]
  },
  {
   "cell_type": "code",
   "execution_count": 37,
   "metadata": {},
   "outputs": [],
   "source": [
    "for i in range (1,np.shape(rb)[0]):\n",
    "    Da[i]=Da[i-1]+rb[i-1]*0.2\n",
    "    rb[i]=to*np.exp(-mean_lam)*np.exp(-Da[i]/m)\n",
    "    "
   ]
  },
  {
   "cell_type": "code",
   "execution_count": 38,
   "metadata": {},
   "outputs": [
    {
     "data": {
      "text/plain": [
       "array([0.00427764, 0.00420507, 0.00413493, 0.00406711, 0.00400148,\n",
       "       0.00393794, 0.0038764 , 0.00381675, 0.00375893, 0.00370283,\n",
       "       0.00364839, 0.00359553, 0.00354419, 0.0034943 , 0.0034458 ,\n",
       "       0.00339863, 0.00335274, 0.00330808, 0.00326459, 0.00322224,\n",
       "       0.00318098, 0.00314076, 0.00310155, 0.00306331, 0.003026  ,\n",
       "       0.00298959, 0.00295406, 0.00291936, 0.00288546, 0.00285235,\n",
       "       0.00281999, 0.00278836, 0.00275743, 0.00272719, 0.0026976 ,\n",
       "       0.00266865, 0.00264031, 0.00261257, 0.00258541, 0.00255882,\n",
       "       0.00253276, 0.00250723, 0.00248221, 0.00245769, 0.00243364,\n",
       "       0.00241007, 0.00238695, 0.00236426, 0.00234201, 0.00232017,\n",
       "       0.00229874, 0.0022777 , 0.00225704, 0.00223676, 0.00221683,\n",
       "       0.00219726, 0.00217804, 0.00215914, 0.00214058, 0.00212233,\n",
       "       0.00210439, 0.00208675, 0.0020694 , 0.00205234, 0.00203556,\n",
       "       0.00201905, 0.00200281, 0.00198683, 0.00197111, 0.00195563,\n",
       "       0.00194039, 0.00192539, 0.00191061, 0.00189607, 0.00188174,\n",
       "       0.00186763, 0.00185373, 0.00184004, 0.00182654, 0.00181325,\n",
       "       0.00180014, 0.00178723, 0.0017745 , 0.00176195, 0.00174957,\n",
       "       0.00173737, 0.00172534, 0.00171347, 0.00170177, 0.00169022,\n",
       "       0.00167883, 0.0016676 , 0.00165651, 0.00164557, 0.00163478,\n",
       "       0.00162412, 0.0016136 , 0.00160322, 0.00159297, 0.00158286,\n",
       "       0.00157287, 0.001563  , 0.00155326, 0.00154364, 0.00153414,\n",
       "       0.00152475, 0.00151548, 0.00150632, 0.00149727, 0.00148833,\n",
       "       0.0014795 , 0.00147077, 0.00146214, 0.00145362, 0.00144519,\n",
       "       0.00143686, 0.00142862, 0.00142048, 0.00141243, 0.00140448,\n",
       "       0.00139661, 0.00138883, 0.00138113, 0.00137353, 0.001366  ,\n",
       "       0.00135856, 0.00135119, 0.00134391, 0.00133671, 0.00132958,\n",
       "       0.00132253, 0.00131555, 0.00130864, 0.00130181, 0.00129505,\n",
       "       0.00128836, 0.00128174, 0.00127518, 0.00126869, 0.00126227,\n",
       "       0.00125591, 0.00124962, 0.00124339, 0.00123722, 0.00123111,\n",
       "       0.00122507, 0.00121908, 0.00121315, 0.00120727, 0.00120146,\n",
       "       0.0011957 , 0.00118999, 0.00118434, 0.00117874, 0.0011732 ,\n",
       "       0.00116771, 0.00116227, 0.00115687, 0.00115153, 0.00114624,\n",
       "       0.001141  , 0.0011358 , 0.00113065, 0.00112555, 0.0011205 ,\n",
       "       0.00111549, 0.00111052, 0.0011056 , 0.00110072, 0.00109588,\n",
       "       0.00109109, 0.00108634, 0.00108163, 0.00107696, 0.00107233,\n",
       "       0.00106774, 0.00106319, 0.00105868, 0.0010542 , 0.00104977,\n",
       "       0.00104537, 0.00104101, 0.00103668, 0.00103239, 0.00102814,\n",
       "       0.00102392, 0.00101973, 0.00101558, 0.00101146, 0.00100738,\n",
       "       0.00100333, 0.00099931, 0.00099532, 0.00099137, 0.00098744,\n",
       "       0.00098355, 0.00097969, 0.00097586, 0.00097206, 0.00096828,\n",
       "       0.00096454, 0.00096083, 0.00095714, 0.00095348, 0.00094985,\n",
       "       0.00094625, 0.00094268, 0.00093913, 0.00093561, 0.00093211,\n",
       "       0.00092864, 0.0009252 , 0.00092178, 0.00091839, 0.00091502,\n",
       "       0.00091168, 0.00090836, 0.00090507, 0.0009018 , 0.00089855,\n",
       "       0.00089533, 0.00089213, 0.00088895, 0.00088579, 0.00088266,\n",
       "       0.00087955, 0.00087646, 0.00087339, 0.00087035, 0.00086732,\n",
       "       0.00086432, 0.00086133, 0.00085837, 0.00085543, 0.00085251,\n",
       "       0.00084961, 0.00084672, 0.00084386, 0.00084102, 0.00083819,\n",
       "       0.00083539, 0.0008326 , 0.00082983, 0.00082708, 0.00082435,\n",
       "       0.00082164, 0.00081894, 0.00081626, 0.0008136 , 0.00081096,\n",
       "       0.00080833], dtype=float32)"
      ]
     },
     "execution_count": 38,
     "metadata": {},
     "output_type": "execute_result"
    }
   ],
   "source": [
    "rb"
   ]
  },
  {
   "cell_type": "code",
   "execution_count": 39,
   "metadata": {},
   "outputs": [],
   "source": [
    "qb=rb*area"
   ]
  },
  {
   "cell_type": "code",
   "execution_count": 40,
   "metadata": {},
   "outputs": [],
   "source": [
    "qb_s=qb/(60*60)"
   ]
  },
  {
   "cell_type": "code",
   "execution_count": 41,
   "metadata": {},
   "outputs": [
    {
     "data": {
      "text/plain": [
       "array([32.67645  , 32.122093 , 31.58631  , 31.06818  , 30.566833 ,\n",
       "       30.08148  , 29.611357 , 29.155758 , 28.714018 , 28.28551  ,\n",
       "       27.86965  , 27.465887 , 27.073696 , 26.692585 , 26.322094 ,\n",
       "       25.961779 , 25.61123  , 25.27005  , 24.937868 , 24.614338 ,\n",
       "       24.299124 , 23.9919   , 23.692373 , 23.400259 , 23.115278 ,\n",
       "       22.837177 , 22.565708 , 22.300636 , 22.041737 , 21.788797 ,\n",
       "       21.541615 , 21.29999  , 21.063738 , 20.83269  , 20.606665 ,\n",
       "       20.385508 , 20.169058 , 19.95717  , 19.749697 , 19.546503 ,\n",
       "       19.347458 , 19.15244  , 18.96132  , 18.77399  , 18.590332 ,\n",
       "       18.410238 , 18.233616 , 18.060352 , 17.890356 , 17.723541 ,\n",
       "       17.559816 , 17.399096 , 17.241293 , 17.086334 , 16.934147 ,\n",
       "       16.784649 , 16.637775 , 16.493454 , 16.351616 , 16.21221  ,\n",
       "       16.075165 , 15.940415 , 15.807915 , 15.677604 , 15.549428 ,\n",
       "       15.423333 , 15.299274 , 15.177198 , 15.057058 , 14.938807 ,\n",
       "       14.822403 , 14.707806 , 14.594969 , 14.483852 , 14.374416 ,\n",
       "       14.266628 , 14.160445 , 14.055837 , 13.952762 , 13.851193 ,\n",
       "       13.751095 , 13.652435 , 13.5551815, 13.459308 , 13.364784 ,\n",
       "       13.271582 , 13.179669 , 13.0890255, 12.99962  , 12.911431 ,\n",
       "       12.824431 , 12.738599 , 12.653912 , 12.570344 , 12.487875 ,\n",
       "       12.406481 , 12.326142 , 12.246842 , 12.168556 , 12.091264 ,\n",
       "       12.01495  , 11.939595 , 11.865182 , 11.791691 , 11.719107 ,\n",
       "       11.647412 , 11.576591 , 11.506628 , 11.437503 , 11.369209 ,\n",
       "       11.301725 , 11.23504  , 11.16914  , 11.104005 , 11.039629 ,\n",
       "       10.975996 , 10.913094 , 10.850907 , 10.78943  , 10.728644 ,\n",
       "       10.668541 , 10.609107 , 10.550332 , 10.4922085, 10.434721 ,\n",
       "       10.377861 , 10.32162  , 10.2659855, 10.210946 , 10.156495 ,\n",
       "       10.102624 , 10.049321 ,  9.996577 ,  9.944388 ,  9.892737 ,\n",
       "        9.841623 ,  9.791037 ,  9.740968 ,  9.691408 ,  9.642351 ,\n",
       "        9.593789 ,  9.545712 ,  9.498118 ,  9.450997 ,  9.404339 ,\n",
       "        9.358142 ,  9.312396 ,  9.2670965,  9.222236 ,  9.177806 ,\n",
       "        9.133804 ,  9.090225 ,  9.047057 ,  9.0043   ,  8.961945 ,\n",
       "        8.919987 ,  8.87842  ,  8.837238 ,  8.79644  ,  8.756015 ,\n",
       "        8.715959 ,  8.6762705,  8.636943 ,  8.597971 ,  8.559348 ,\n",
       "        8.521071 ,  8.483134 ,  8.445536 ,  8.408269 ,  8.371328 ,\n",
       "        8.334712 ,  8.298417 ,  8.262434 ,  8.226765 ,  8.1914015,\n",
       "        8.15634  ,  8.121578 ,  8.087112 ,  8.052938 ,  8.019053 ,\n",
       "        7.9854507,  7.952129 ,  7.9190845,  7.8863144,  7.853814 ,\n",
       "        7.821582 ,  7.7896123,  7.757903 ,  7.726452 ,  7.695254 ,\n",
       "        7.6643076,  7.633611 ,  7.603158 ,  7.572947 ,  7.5429764,\n",
       "        7.5132422,  7.483742 ,  7.4544725,  7.425431 ,  7.3966146,\n",
       "        7.368022 ,  7.3396497,  7.3114953,  7.283555 ,  7.2558303,\n",
       "        7.228314 ,  7.201007 ,  7.173906 ,  7.1470075,  7.120309 ,\n",
       "        7.0938096,  7.0675087,  7.041401 ,  7.0154862,  6.9897623,\n",
       "        6.9642262,  6.938877 ,  6.9137106,  6.8887253,  6.86392  ,\n",
       "        6.839295 ,  6.8148446,  6.7905693,  6.7664666,  6.742534 ,\n",
       "        6.71877  ,  6.6951737,  6.671742 ,  6.648476 ,  6.625369 ,\n",
       "        6.6024237,  6.5796366,  6.5570054,  6.53453  ,  6.51221  ,\n",
       "        6.4900413,  6.468023 ,  6.446152 ,  6.424431 ,  6.4028554,\n",
       "        6.3814235,  6.360136 ,  6.3389893,  6.3179827,  6.2971153,\n",
       "        6.276386 ,  6.2557917,  6.2353325,  6.215006 ,  6.194813 ,\n",
       "        6.174751 ], dtype=float32)"
      ]
     },
     "execution_count": 41,
     "metadata": {},
     "output_type": "execute_result"
    }
   ],
   "source": [
    "qb_s"
   ]
  },
  {
   "cell_type": "code",
   "execution_count": 42,
   "metadata": {},
   "outputs": [
    {
     "data": {
      "text/plain": [
       "Text(0.5, 1.0, 'Baseflow recession curve after rainfall event')"
      ]
     },
     "execution_count": 42,
     "metadata": {},
     "output_type": "execute_result"
    },
    {
     "data": {
      "image/png": "[encoded data removed]",
      "text/plain": [
       "<Figure size 432x288 with 1 Axes>"
      ]
     },
     "metadata": {
      "needs_background": "light"
     },
     "output_type": "display_data"
    }
   ],
   "source": [
    "plt.plot(t,qb_s)\n",
    "plt.xlabel('Time (days)')\n",
    "plt.ylabel('Baseflow (m^3/s)')\n",
    "plt.title('Baseflow recession curve after rainfall event')\n"
   ]
  },
  {
   "cell_type": "code",
   "execution_count": null,
   "metadata": {},
   "outputs": [],
   "source": []
  }
 ],
 "metadata": {
  "kernelspec": {
   "display_name": "Python 3",
   "language": "python",
   "name": "python3"
  },
  "language_info": {
   "codemirror_mode": {
    "name": "ipython",
    "version": 3
   },
   "file_extension": ".py",
   "mimetype": "text/x-python",
   "name": "python",
   "nbconvert_exporter": "python",
   "pygments_lexer": "ipython3",
   "version": "3.6.6"
  }
 },
 "nbformat": 4,
 "nbformat_minor": 2
}
