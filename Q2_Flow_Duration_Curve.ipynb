{
 "cells": [
  {
   "cell_type": "code",
   "execution_count": 1,
   "metadata": {},
   "outputs": [],
   "source": [
    "import pandas as pd\n",
    "import numpy as np\n",
    "import matplotlib.pyplot as plt\n",
    "%matplotlib inline"
   ]
  },
  {
   "cell_type": "code",
   "execution_count": 40,
   "metadata": {},
   "outputs": [],
   "source": [
    "df_taylor=pd.read_excel('Taylor_Creek.xlsx')\n",
    "df_middle=pd.read_excel('Middle_loup.xlsx')\n",
    "df_taylor=df_taylor.dropna()\n",
    "df_middle=df_middle.dropna()"
   ]
  },
  {
   "cell_type": "code",
   "execution_count": 41,
   "metadata": {},
   "outputs": [
    {
     "data": {
      "text/html": [
       "<div>\n",
       "<style scoped>\n",
       "    .dataframe tbody tr th:only-of-type {\n",
       "        vertical-align: middle;\n",
       "    }\n",
       "\n",
       "    .dataframe tbody tr th {\n",
       "        vertical-align: top;\n",
       "    }\n",
       "\n",
       "    .dataframe thead th {\n",
       "        text-align: right;\n",
       "    }\n",
       "</style>\n",
       "<table border=\"1\" class=\"dataframe\">\n",
       "  <thead>\n",
       "    <tr style=\"text-align: right;\">\n",
       "      <th></th>\n",
       "      <th>Date</th>\n",
       "      <th>Discharge</th>\n",
       "    </tr>\n",
       "  </thead>\n",
       "  <tbody>\n",
       "    <tr>\n",
       "      <th>0</th>\n",
       "      <td>04-10-2015</td>\n",
       "      <td>16.2</td>\n",
       "    </tr>\n",
       "    <tr>\n",
       "      <th>1</th>\n",
       "      <td>05-10-2015</td>\n",
       "      <td>16.1</td>\n",
       "    </tr>\n",
       "    <tr>\n",
       "      <th>2</th>\n",
       "      <td>06-10-2015</td>\n",
       "      <td>15.7</td>\n",
       "    </tr>\n",
       "    <tr>\n",
       "      <th>3</th>\n",
       "      <td>07-10-2015</td>\n",
       "      <td>20.3</td>\n",
       "    </tr>\n",
       "    <tr>\n",
       "      <th>4</th>\n",
       "      <td>08-10-2015</td>\n",
       "      <td>19.9</td>\n",
       "    </tr>\n",
       "  </tbody>\n",
       "</table>\n",
       "</div>"
      ],
      "text/plain": [
       "         Date  Discharge\n",
       "0  04-10-2015       16.2\n",
       "1  05-10-2015       16.1\n",
       "2  06-10-2015       15.7\n",
       "3  07-10-2015       20.3\n",
       "4  08-10-2015       19.9"
      ]
     },
     "execution_count": 41,
     "metadata": {},
     "output_type": "execute_result"
    }
   ],
   "source": [
    "df_taylor.head()"
   ]
  },
  {
   "cell_type": "code",
   "execution_count": 42,
   "metadata": {},
   "outputs": [],
   "source": [
    "df_taylor['Date']=pd.to_datetime(df_taylor['Date'])"
   ]
  },
  {
   "cell_type": "code",
   "execution_count": 43,
   "metadata": {},
   "outputs": [],
   "source": [
    "df_middle['Date']=pd.to_datetime(df_middle['Date'])"
   ]
  },
  {
   "cell_type": "code",
   "execution_count": 44,
   "metadata": {},
   "outputs": [
    {
     "data": {
      "text/plain": [
       "Date         datetime64[ns]\n",
       "Discharge           float64\n",
       "dtype: object"
      ]
     },
     "execution_count": 44,
     "metadata": {},
     "output_type": "execute_result"
    }
   ],
   "source": [
    "df_taylor.dtypes"
   ]
  },
  {
   "cell_type": "code",
   "execution_count": 45,
   "metadata": {},
   "outputs": [
    {
     "data": {
      "text/plain": [
       "Date         datetime64[ns]\n",
       "Discharge             int64\n",
       "dtype: object"
      ]
     },
     "execution_count": 45,
     "metadata": {},
     "output_type": "execute_result"
    }
   ],
   "source": [
    "df_middle.dtypes"
   ]
  },
  {
   "cell_type": "code",
   "execution_count": 46,
   "metadata": {},
   "outputs": [],
   "source": [
    "df_taylor['runoff']=(df_taylor['Discharge']*(2.832*(10**7)*60*60*24))/(4.458*(10**13))"
   ]
  },
  {
   "cell_type": "code",
   "execution_count": 47,
   "metadata": {},
   "outputs": [],
   "source": [
    "df_middle['runoff']=(df_middle['Discharge']*(2.832*(10**7)*60*60*24))/(2.046*(10**14))"
   ]
  },
  {
   "cell_type": "code",
   "execution_count": 48,
   "metadata": {},
   "outputs": [
    {
     "data": {
      "text/html": [
       "<div>\n",
       "<style scoped>\n",
       "    .dataframe tbody tr th:only-of-type {\n",
       "        vertical-align: middle;\n",
       "    }\n",
       "\n",
       "    .dataframe tbody tr th {\n",
       "        vertical-align: top;\n",
       "    }\n",
       "\n",
       "    .dataframe thead th {\n",
       "        text-align: right;\n",
       "    }\n",
       "</style>\n",
       "<table border=\"1\" class=\"dataframe\">\n",
       "  <thead>\n",
       "    <tr style=\"text-align: right;\">\n",
       "      <th></th>\n",
       "      <th>Date</th>\n",
       "      <th>Discharge</th>\n",
       "      <th>runoff</th>\n",
       "    </tr>\n",
       "  </thead>\n",
       "  <tbody>\n",
       "    <tr>\n",
       "      <th>0</th>\n",
       "      <td>2015-04-10</td>\n",
       "      <td>16.2</td>\n",
       "      <td>0.889164</td>\n",
       "    </tr>\n",
       "    <tr>\n",
       "      <th>1</th>\n",
       "      <td>2015-05-10</td>\n",
       "      <td>16.1</td>\n",
       "      <td>0.883675</td>\n",
       "    </tr>\n",
       "    <tr>\n",
       "      <th>2</th>\n",
       "      <td>2015-06-10</td>\n",
       "      <td>15.7</td>\n",
       "      <td>0.861721</td>\n",
       "    </tr>\n",
       "    <tr>\n",
       "      <th>3</th>\n",
       "      <td>2015-07-10</td>\n",
       "      <td>20.3</td>\n",
       "      <td>1.114200</td>\n",
       "    </tr>\n",
       "    <tr>\n",
       "      <th>4</th>\n",
       "      <td>2015-08-10</td>\n",
       "      <td>19.9</td>\n",
       "      <td>1.092245</td>\n",
       "    </tr>\n",
       "  </tbody>\n",
       "</table>\n",
       "</div>"
      ],
      "text/plain": [
       "        Date  Discharge    runoff\n",
       "0 2015-04-10       16.2  0.889164\n",
       "1 2015-05-10       16.1  0.883675\n",
       "2 2015-06-10       15.7  0.861721\n",
       "3 2015-07-10       20.3  1.114200\n",
       "4 2015-08-10       19.9  1.092245"
      ]
     },
     "execution_count": 48,
     "metadata": {},
     "output_type": "execute_result"
    }
   ],
   "source": [
    "df_taylor.head()"
   ]
  },
  {
   "cell_type": "code",
   "execution_count": 49,
   "metadata": {},
   "outputs": [
    {
     "data": {
      "text/html": [
       "<div>\n",
       "<style scoped>\n",
       "    .dataframe tbody tr th:only-of-type {\n",
       "        vertical-align: middle;\n",
       "    }\n",
       "\n",
       "    .dataframe tbody tr th {\n",
       "        vertical-align: top;\n",
       "    }\n",
       "\n",
       "    .dataframe thead th {\n",
       "        text-align: right;\n",
       "    }\n",
       "</style>\n",
       "<table border=\"1\" class=\"dataframe\">\n",
       "  <thead>\n",
       "    <tr style=\"text-align: right;\">\n",
       "      <th></th>\n",
       "      <th>Date</th>\n",
       "      <th>Discharge</th>\n",
       "      <th>runoff</th>\n",
       "    </tr>\n",
       "  </thead>\n",
       "  <tbody>\n",
       "    <tr>\n",
       "      <th>0</th>\n",
       "      <td>2015-04-10</td>\n",
       "      <td>499</td>\n",
       "      <td>5.967630</td>\n",
       "    </tr>\n",
       "    <tr>\n",
       "      <th>1</th>\n",
       "      <td>2015-05-10</td>\n",
       "      <td>483</td>\n",
       "      <td>5.776283</td>\n",
       "    </tr>\n",
       "    <tr>\n",
       "      <th>2</th>\n",
       "      <td>2015-06-10</td>\n",
       "      <td>492</td>\n",
       "      <td>5.883916</td>\n",
       "    </tr>\n",
       "    <tr>\n",
       "      <th>3</th>\n",
       "      <td>2015-07-10</td>\n",
       "      <td>494</td>\n",
       "      <td>5.907834</td>\n",
       "    </tr>\n",
       "    <tr>\n",
       "      <th>4</th>\n",
       "      <td>2015-08-10</td>\n",
       "      <td>497</td>\n",
       "      <td>5.943712</td>\n",
       "    </tr>\n",
       "  </tbody>\n",
       "</table>\n",
       "</div>"
      ],
      "text/plain": [
       "        Date  Discharge    runoff\n",
       "0 2015-04-10        499  5.967630\n",
       "1 2015-05-10        483  5.776283\n",
       "2 2015-06-10        492  5.883916\n",
       "3 2015-07-10        494  5.907834\n",
       "4 2015-08-10        497  5.943712"
      ]
     },
     "execution_count": 49,
     "metadata": {},
     "output_type": "execute_result"
    }
   ],
   "source": [
    "df_middle.head()"
   ]
  },
  {
   "cell_type": "code",
   "execution_count": 50,
   "metadata": {},
   "outputs": [
    {
     "data": {
      "text/html": [
       "<div>\n",
       "<style scoped>\n",
       "    .dataframe tbody tr th:only-of-type {\n",
       "        vertical-align: middle;\n",
       "    }\n",
       "\n",
       "    .dataframe tbody tr th {\n",
       "        vertical-align: top;\n",
       "    }\n",
       "\n",
       "    .dataframe thead th {\n",
       "        text-align: right;\n",
       "    }\n",
       "</style>\n",
       "<table border=\"1\" class=\"dataframe\">\n",
       "  <thead>\n",
       "    <tr style=\"text-align: right;\">\n",
       "      <th></th>\n",
       "      <th>Date</th>\n",
       "      <th>Discharge</th>\n",
       "      <th>runoff</th>\n",
       "    </tr>\n",
       "  </thead>\n",
       "  <tbody>\n",
       "    <tr>\n",
       "      <th>20</th>\n",
       "      <td>2015-10-24</td>\n",
       "      <td>15.4</td>\n",
       "      <td>0.845255</td>\n",
       "    </tr>\n",
       "    <tr>\n",
       "      <th>2</th>\n",
       "      <td>2015-06-10</td>\n",
       "      <td>15.7</td>\n",
       "      <td>0.861721</td>\n",
       "    </tr>\n",
       "    <tr>\n",
       "      <th>21</th>\n",
       "      <td>2015-10-25</td>\n",
       "      <td>15.8</td>\n",
       "      <td>0.867209</td>\n",
       "    </tr>\n",
       "    <tr>\n",
       "      <th>1</th>\n",
       "      <td>2015-05-10</td>\n",
       "      <td>16.1</td>\n",
       "      <td>0.883675</td>\n",
       "    </tr>\n",
       "    <tr>\n",
       "      <th>0</th>\n",
       "      <td>2015-04-10</td>\n",
       "      <td>16.2</td>\n",
       "      <td>0.889164</td>\n",
       "    </tr>\n",
       "  </tbody>\n",
       "</table>\n",
       "</div>"
      ],
      "text/plain": [
       "         Date  Discharge    runoff\n",
       "20 2015-10-24       15.4  0.845255\n",
       "2  2015-06-10       15.7  0.861721\n",
       "21 2015-10-25       15.8  0.867209\n",
       "1  2015-05-10       16.1  0.883675\n",
       "0  2015-04-10       16.2  0.889164"
      ]
     },
     "execution_count": 50,
     "metadata": {},
     "output_type": "execute_result"
    }
   ],
   "source": [
    "df_taylor=df_taylor.sort_values(by='runoff')\n",
    "df_taylor.head()"
   ]
  },
  {
   "cell_type": "code",
   "execution_count": 51,
   "metadata": {},
   "outputs": [
    {
     "data": {
      "text/html": [
       "<div>\n",
       "<style scoped>\n",
       "    .dataframe tbody tr th:only-of-type {\n",
       "        vertical-align: middle;\n",
       "    }\n",
       "\n",
       "    .dataframe tbody tr th {\n",
       "        vertical-align: top;\n",
       "    }\n",
       "\n",
       "    .dataframe thead th {\n",
       "        text-align: right;\n",
       "    }\n",
       "</style>\n",
       "<table border=\"1\" class=\"dataframe\">\n",
       "  <thead>\n",
       "    <tr style=\"text-align: right;\">\n",
       "      <th></th>\n",
       "      <th>Date</th>\n",
       "      <th>Discharge</th>\n",
       "      <th>runoff</th>\n",
       "    </tr>\n",
       "  </thead>\n",
       "  <tbody>\n",
       "    <tr>\n",
       "      <th>924</th>\n",
       "      <td>2018-04-15</td>\n",
       "      <td>350</td>\n",
       "      <td>4.185713</td>\n",
       "    </tr>\n",
       "    <tr>\n",
       "      <th>480</th>\n",
       "      <td>2017-01-26</td>\n",
       "      <td>385</td>\n",
       "      <td>4.604284</td>\n",
       "    </tr>\n",
       "    <tr>\n",
       "      <th>925</th>\n",
       "      <td>2018-04-16</td>\n",
       "      <td>386</td>\n",
       "      <td>4.616243</td>\n",
       "    </tr>\n",
       "    <tr>\n",
       "      <th>481</th>\n",
       "      <td>2017-01-27</td>\n",
       "      <td>387</td>\n",
       "      <td>4.628202</td>\n",
       "    </tr>\n",
       "    <tr>\n",
       "      <th>483</th>\n",
       "      <td>2017-01-29</td>\n",
       "      <td>417</td>\n",
       "      <td>4.986978</td>\n",
       "    </tr>\n",
       "  </tbody>\n",
       "</table>\n",
       "</div>"
      ],
      "text/plain": [
       "          Date  Discharge    runoff\n",
       "924 2018-04-15        350  4.185713\n",
       "480 2017-01-26        385  4.604284\n",
       "925 2018-04-16        386  4.616243\n",
       "481 2017-01-27        387  4.628202\n",
       "483 2017-01-29        417  4.986978"
      ]
     },
     "execution_count": 51,
     "metadata": {},
     "output_type": "execute_result"
    }
   ],
   "source": [
    "df_middle=df_middle.sort_values(by='runoff')\n",
    "df_middle.head()"
   ]
  },
  {
   "cell_type": "code",
   "execution_count": 52,
   "metadata": {},
   "outputs": [],
   "source": [
    "df_taylor=df_taylor.assign(n= range(1,len(df_taylor)+1,1))"
   ]
  },
  {
   "cell_type": "code",
   "execution_count": 53,
   "metadata": {},
   "outputs": [
    {
     "data": {
      "text/html": [
       "<div>\n",
       "<style scoped>\n",
       "    .dataframe tbody tr th:only-of-type {\n",
       "        vertical-align: middle;\n",
       "    }\n",
       "\n",
       "    .dataframe tbody tr th {\n",
       "        vertical-align: top;\n",
       "    }\n",
       "\n",
       "    .dataframe thead th {\n",
       "        text-align: right;\n",
       "    }\n",
       "</style>\n",
       "<table border=\"1\" class=\"dataframe\">\n",
       "  <thead>\n",
       "    <tr style=\"text-align: right;\">\n",
       "      <th></th>\n",
       "      <th>Date</th>\n",
       "      <th>Discharge</th>\n",
       "      <th>runoff</th>\n",
       "      <th>n</th>\n",
       "    </tr>\n",
       "  </thead>\n",
       "  <tbody>\n",
       "    <tr>\n",
       "      <th>20</th>\n",
       "      <td>2015-10-24</td>\n",
       "      <td>15.4</td>\n",
       "      <td>0.845255</td>\n",
       "      <td>1</td>\n",
       "    </tr>\n",
       "    <tr>\n",
       "      <th>2</th>\n",
       "      <td>2015-06-10</td>\n",
       "      <td>15.7</td>\n",
       "      <td>0.861721</td>\n",
       "      <td>2</td>\n",
       "    </tr>\n",
       "    <tr>\n",
       "      <th>21</th>\n",
       "      <td>2015-10-25</td>\n",
       "      <td>15.8</td>\n",
       "      <td>0.867209</td>\n",
       "      <td>3</td>\n",
       "    </tr>\n",
       "    <tr>\n",
       "      <th>1</th>\n",
       "      <td>2015-05-10</td>\n",
       "      <td>16.1</td>\n",
       "      <td>0.883675</td>\n",
       "      <td>4</td>\n",
       "    </tr>\n",
       "    <tr>\n",
       "      <th>0</th>\n",
       "      <td>2015-04-10</td>\n",
       "      <td>16.2</td>\n",
       "      <td>0.889164</td>\n",
       "      <td>5</td>\n",
       "    </tr>\n",
       "  </tbody>\n",
       "</table>\n",
       "</div>"
      ],
      "text/plain": [
       "         Date  Discharge    runoff  n\n",
       "20 2015-10-24       15.4  0.845255  1\n",
       "2  2015-06-10       15.7  0.861721  2\n",
       "21 2015-10-25       15.8  0.867209  3\n",
       "1  2015-05-10       16.1  0.883675  4\n",
       "0  2015-04-10       16.2  0.889164  5"
      ]
     },
     "execution_count": 53,
     "metadata": {},
     "output_type": "execute_result"
    }
   ],
   "source": [
    "df_taylor.head()"
   ]
  },
  {
   "cell_type": "code",
   "execution_count": 54,
   "metadata": {},
   "outputs": [
    {
     "data": {
      "text/html": [
       "<div>\n",
       "<style scoped>\n",
       "    .dataframe tbody tr th:only-of-type {\n",
       "        vertical-align: middle;\n",
       "    }\n",
       "\n",
       "    .dataframe tbody tr th {\n",
       "        vertical-align: top;\n",
       "    }\n",
       "\n",
       "    .dataframe thead th {\n",
       "        text-align: right;\n",
       "    }\n",
       "</style>\n",
       "<table border=\"1\" class=\"dataframe\">\n",
       "  <thead>\n",
       "    <tr style=\"text-align: right;\">\n",
       "      <th></th>\n",
       "      <th>Date</th>\n",
       "      <th>Discharge</th>\n",
       "      <th>runoff</th>\n",
       "      <th>n</th>\n",
       "    </tr>\n",
       "  </thead>\n",
       "  <tbody>\n",
       "    <tr>\n",
       "      <th>924</th>\n",
       "      <td>2018-04-15</td>\n",
       "      <td>350</td>\n",
       "      <td>4.185713</td>\n",
       "      <td>1</td>\n",
       "    </tr>\n",
       "    <tr>\n",
       "      <th>480</th>\n",
       "      <td>2017-01-26</td>\n",
       "      <td>385</td>\n",
       "      <td>4.604284</td>\n",
       "      <td>2</td>\n",
       "    </tr>\n",
       "    <tr>\n",
       "      <th>925</th>\n",
       "      <td>2018-04-16</td>\n",
       "      <td>386</td>\n",
       "      <td>4.616243</td>\n",
       "      <td>3</td>\n",
       "    </tr>\n",
       "    <tr>\n",
       "      <th>481</th>\n",
       "      <td>2017-01-27</td>\n",
       "      <td>387</td>\n",
       "      <td>4.628202</td>\n",
       "      <td>4</td>\n",
       "    </tr>\n",
       "    <tr>\n",
       "      <th>483</th>\n",
       "      <td>2017-01-29</td>\n",
       "      <td>417</td>\n",
       "      <td>4.986978</td>\n",
       "      <td>5</td>\n",
       "    </tr>\n",
       "  </tbody>\n",
       "</table>\n",
       "</div>"
      ],
      "text/plain": [
       "          Date  Discharge    runoff  n\n",
       "924 2018-04-15        350  4.185713  1\n",
       "480 2017-01-26        385  4.604284  2\n",
       "925 2018-04-16        386  4.616243  3\n",
       "481 2017-01-27        387  4.628202  4\n",
       "483 2017-01-29        417  4.986978  5"
      ]
     },
     "execution_count": 54,
     "metadata": {},
     "output_type": "execute_result"
    }
   ],
   "source": [
    "df_middle=df_middle.assign(n= range(1, len(df_middle)+1,1))\n",
    "df_middle.head()"
   ]
  },
  {
   "cell_type": "code",
   "execution_count": 55,
   "metadata": {},
   "outputs": [],
   "source": [
    "df_taylor['ep']=df_taylor['n']/(len(df_taylor)+1)\n",
    "df_middle['ep']=df_middle['n']/(len(df_middle)+1)"
   ]
  },
  {
   "cell_type": "code",
   "execution_count": 56,
   "metadata": {},
   "outputs": [
    {
     "data": {
      "text/html": [
       "<div>\n",
       "<style scoped>\n",
       "    .dataframe tbody tr th:only-of-type {\n",
       "        vertical-align: middle;\n",
       "    }\n",
       "\n",
       "    .dataframe tbody tr th {\n",
       "        vertical-align: top;\n",
       "    }\n",
       "\n",
       "    .dataframe thead th {\n",
       "        text-align: right;\n",
       "    }\n",
       "</style>\n",
       "<table border=\"1\" class=\"dataframe\">\n",
       "  <thead>\n",
       "    <tr style=\"text-align: right;\">\n",
       "      <th></th>\n",
       "      <th>Date</th>\n",
       "      <th>Discharge</th>\n",
       "      <th>runoff</th>\n",
       "      <th>n</th>\n",
       "      <th>ep</th>\n",
       "    </tr>\n",
       "  </thead>\n",
       "  <tbody>\n",
       "    <tr>\n",
       "      <th>44</th>\n",
       "      <td>2015-11-17</td>\n",
       "      <td>497.0</td>\n",
       "      <td>27.278678</td>\n",
       "      <td>1082</td>\n",
       "      <td>0.99540</td>\n",
       "    </tr>\n",
       "    <tr>\n",
       "      <th>528</th>\n",
       "      <td>2017-03-15</td>\n",
       "      <td>500.0</td>\n",
       "      <td>27.443338</td>\n",
       "      <td>1083</td>\n",
       "      <td>0.99632</td>\n",
       "    </tr>\n",
       "    <tr>\n",
       "      <th>65</th>\n",
       "      <td>2015-08-12</td>\n",
       "      <td>614.0</td>\n",
       "      <td>33.700419</td>\n",
       "      <td>1084</td>\n",
       "      <td>0.99724</td>\n",
       "    </tr>\n",
       "    <tr>\n",
       "      <th>41</th>\n",
       "      <td>2015-11-14</td>\n",
       "      <td>665.0</td>\n",
       "      <td>36.499639</td>\n",
       "      <td>1085</td>\n",
       "      <td>0.99816</td>\n",
       "    </tr>\n",
       "    <tr>\n",
       "      <th>66</th>\n",
       "      <td>2015-09-12</td>\n",
       "      <td>1010.0</td>\n",
       "      <td>55.435542</td>\n",
       "      <td>1086</td>\n",
       "      <td>0.99908</td>\n",
       "    </tr>\n",
       "  </tbody>\n",
       "</table>\n",
       "</div>"
      ],
      "text/plain": [
       "          Date  Discharge     runoff     n       ep\n",
       "44  2015-11-17      497.0  27.278678  1082  0.99540\n",
       "528 2017-03-15      500.0  27.443338  1083  0.99632\n",
       "65  2015-08-12      614.0  33.700419  1084  0.99724\n",
       "41  2015-11-14      665.0  36.499639  1085  0.99816\n",
       "66  2015-09-12     1010.0  55.435542  1086  0.99908"
      ]
     },
     "execution_count": 56,
     "metadata": {},
     "output_type": "execute_result"
    }
   ],
   "source": [
    "df_taylor.tail()"
   ]
  },
  {
   "cell_type": "code",
   "execution_count": 57,
   "metadata": {},
   "outputs": [
    {
     "data": {
      "text/html": [
       "<div>\n",
       "<style scoped>\n",
       "    .dataframe tbody tr th:only-of-type {\n",
       "        vertical-align: middle;\n",
       "    }\n",
       "\n",
       "    .dataframe tbody tr th {\n",
       "        vertical-align: top;\n",
       "    }\n",
       "\n",
       "    .dataframe thead th {\n",
       "        text-align: right;\n",
       "    }\n",
       "</style>\n",
       "<table border=\"1\" class=\"dataframe\">\n",
       "  <thead>\n",
       "    <tr style=\"text-align: right;\">\n",
       "      <th></th>\n",
       "      <th>Date</th>\n",
       "      <th>Discharge</th>\n",
       "      <th>runoff</th>\n",
       "      <th>n</th>\n",
       "      <th>ep</th>\n",
       "    </tr>\n",
       "  </thead>\n",
       "  <tbody>\n",
       "    <tr>\n",
       "      <th>201</th>\n",
       "      <td>2016-04-22</td>\n",
       "      <td>676</td>\n",
       "      <td>8.084405</td>\n",
       "      <td>1093</td>\n",
       "      <td>0.995446</td>\n",
       "    </tr>\n",
       "    <tr>\n",
       "      <th>215</th>\n",
       "      <td>2016-06-05</td>\n",
       "      <td>683</td>\n",
       "      <td>8.168119</td>\n",
       "      <td>1094</td>\n",
       "      <td>0.996357</td>\n",
       "    </tr>\n",
       "    <tr>\n",
       "      <th>200</th>\n",
       "      <td>2016-04-21</td>\n",
       "      <td>686</td>\n",
       "      <td>8.203997</td>\n",
       "      <td>1095</td>\n",
       "      <td>0.997268</td>\n",
       "    </tr>\n",
       "    <tr>\n",
       "      <th>214</th>\n",
       "      <td>2016-05-05</td>\n",
       "      <td>710</td>\n",
       "      <td>8.491017</td>\n",
       "      <td>1096</td>\n",
       "      <td>0.998179</td>\n",
       "    </tr>\n",
       "    <tr>\n",
       "      <th>682</th>\n",
       "      <td>2017-08-16</td>\n",
       "      <td>738</td>\n",
       "      <td>8.825874</td>\n",
       "      <td>1097</td>\n",
       "      <td>0.999089</td>\n",
       "    </tr>\n",
       "  </tbody>\n",
       "</table>\n",
       "</div>"
      ],
      "text/plain": [
       "          Date  Discharge    runoff     n        ep\n",
       "201 2016-04-22        676  8.084405  1093  0.995446\n",
       "215 2016-06-05        683  8.168119  1094  0.996357\n",
       "200 2016-04-21        686  8.203997  1095  0.997268\n",
       "214 2016-05-05        710  8.491017  1096  0.998179\n",
       "682 2017-08-16        738  8.825874  1097  0.999089"
      ]
     },
     "execution_count": 57,
     "metadata": {},
     "output_type": "execute_result"
    }
   ],
   "source": [
    "df_middle.tail()"
   ]
  },
  {
   "cell_type": "code",
   "execution_count": 63,
   "metadata": {},
   "outputs": [
    {
     "data": {
      "text/plain": [
       "Text(0.5,1,'Flow Duration Curve for Taylor Creek')"
      ]
     },
     "execution_count": 63,
     "metadata": {},
     "output_type": "execute_result"
    },
    {
     "data": {
      "image/png": "[encoded data removed]",
      "text/plain": [
       "<Figure size 432x288 with 1 Axes>"
      ]
     },
     "metadata": {
      "needs_background": "light"
     },
     "output_type": "display_data"
    }
   ],
   "source": [
    "fig=plt.figure()\n",
    "plt.plot(df_taylor['ep'],df_taylor['runoff'])\n",
    "plt.yscale('log')\n",
    "plt.xlabel('Excedence Probablity')\n",
    "plt.ylabel('Runoff mm/day)')\n",
    "plt.title('Flow Duration Curve for Taylor Creek')"
   ]
  },
  {
   "cell_type": "code",
   "execution_count": 64,
   "metadata": {},
   "outputs": [
    {
     "data": {
      "text/plain": [
       "Text(0.5,1,'Flow Duration Curve for Middle Creek')"
      ]
     },
     "execution_count": 64,
     "metadata": {},
     "output_type": "execute_result"
    },
    {
     "data": {
      "image/png": "[encoded data removed]",
      "text/plain": [
       "<Figure size 432x288 with 1 Axes>"
      ]
     },
     "metadata": {
      "needs_background": "light"
     },
     "output_type": "display_data"
    }
   ],
   "source": [
    "fig1=plt.figure()\n",
    "plt.plot(df_middle['ep'],df_middle['runoff'])\n",
    "plt.yscale('log')\n",
    "plt.xlabel('Excedence Probablity')\n",
    "plt.ylabel('Runoff (mm/day)')\n",
    "plt.title('Flow Duration Curve for Middle Creek')"
   ]
  },
  {
   "cell_type": "code",
   "execution_count": 65,
   "metadata": {},
   "outputs": [
    {
     "name": "stdout",
     "output_type": "stream",
     "text": [
      "5.728446686217009\n",
      "6.398160703812318\n"
     ]
    }
   ],
   "source": [
    "print(np.percentile(df_middle['runoff'],25))\n",
    "print(np.percentile(df_middle['runoff'],75))"
   ]
  },
  {
   "cell_type": "code",
   "execution_count": 66,
   "metadata": {},
   "outputs": [
    {
     "name": "stdout",
     "output_type": "stream",
     "text": [
      "2.1625350201884252\n",
      "7.903681292059219\n"
     ]
    }
   ],
   "source": [
    "print(np.percentile(df_taylor['runoff'],25))\n",
    "print(np.percentile(df_taylor['runoff'],75))"
   ]
  },
  {
   "cell_type": "code",
   "execution_count": null,
   "metadata": {},
   "outputs": [],
   "source": [
    "slope_taylor,intercept_taylor=np.polyfit(df_taylor['ep'],df_taylor['r'])"
   ]
  }
 ],
 "metadata": {
  "kernelspec": {
   "display_name": "Python 3",
   "language": "python",
   "name": "python3"
  },
  "language_info": {
   "codemirror_mode": {
    "name": "ipython",
    "version": 3
   },
   "file_extension": ".py",
   "mimetype": "text/x-python",
   "name": "python",
   "nbconvert_exporter": "python",
   "pygments_lexer": "ipython3",
   "version": "3.6.6"
  }
 },
 "nbformat": 4,
 "nbformat_minor": 2
}
